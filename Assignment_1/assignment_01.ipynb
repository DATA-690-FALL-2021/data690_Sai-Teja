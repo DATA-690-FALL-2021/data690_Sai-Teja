{
  "nbformat": 4,
  "nbformat_minor": 0,
  "metadata": {
    "colab": {
      "name": "assignment_01.ipynb",
      "provenance": [],
      "authorship_tag": "ABX9TyNkocxi9Niap/0HArcXanTE",
      "include_colab_link": true
    },
    "kernelspec": {
      "name": "python3",
      "display_name": "Python 3"
    },
    "language_info": {
      "name": "python"
    }
  },
  "cells": [
    {
      "cell_type": "markdown",
      "metadata": {
        "id": "view-in-github",
        "colab_type": "text"
      },
      "source": [
        "<a href=\"https://colab.research.google.com/github/asaitej1/data690_Sai-Teja/blob/main/Assignment_1/assignment_01.ipynb\" target=\"_parent\"><img src=\"https://colab.research.google.com/assets/colab-badge.svg\" alt=\"Open In Colab\"/></a>"
      ]
    },
    {
      "cell_type": "markdown",
      "metadata": {
        "id": "VCz1npYlON1e"
      },
      "source": [
        "#Assignment for DATA 690 FALL 2021\n",
        "- Instructor: Dr.Jay Wang\n",
        "- Student: Sai Teja Avadhootha\n",
        "- Date:09/02/2021\n",
        "\n",
        "This is for demonstrating the use of Jupyter Notebook"
      ]
    },
    {
      "cell_type": "markdown",
      "metadata": {
        "id": "Y-LU7AJFQ0XR"
      },
      "source": [
        "#simplest python code\n"
      ]
    },
    {
      "cell_type": "code",
      "metadata": {
        "colab": {
          "base_uri": "https://localhost:8080/"
        },
        "id": "tAK4wWX9QPSb",
        "outputId": "0207733c-3315-4be2-d33e-fc348388e751"
      },
      "source": [
        "print(\"Hello World\")"
      ],
      "execution_count": 2,
      "outputs": [
        {
          "output_type": "stream",
          "name": "stdout",
          "text": [
            "Hello World\n"
          ]
        }
      ]
    },
    {
      "cell_type": "markdown",
      "metadata": {
        "id": "yzR4xyTaQ8i4"
      },
      "source": [
        "#perform multipication\n"
      ]
    },
    {
      "cell_type": "code",
      "metadata": {
        "colab": {
          "base_uri": "https://localhost:8080/"
        },
        "id": "zpFuxpPMN2up",
        "outputId": "05d119e9-412c-47c1-a117-02286a7d60af"
      },
      "source": [
        "x = 10*2\n",
        "print(x)"
      ],
      "execution_count": 3,
      "outputs": [
        {
          "output_type": "stream",
          "name": "stdout",
          "text": [
            "20\n"
          ]
        }
      ]
    },
    {
      "cell_type": "markdown",
      "metadata": {
        "id": "78KlBp4aRDNB"
      },
      "source": [
        "#perform division\n"
      ]
    },
    {
      "cell_type": "code",
      "metadata": {
        "colab": {
          "base_uri": "https://localhost:8080/"
        },
        "id": "DBgCzLDyQmyG",
        "outputId": "f66b57f5-6c67-47f1-9b1b-aa3c920a21a6"
      },
      "source": [
        "y=100\n",
        "z=y/x\n",
        "print(z)"
      ],
      "execution_count": 4,
      "outputs": [
        {
          "output_type": "stream",
          "name": "stdout",
          "text": [
            "5.0\n"
          ]
        }
      ]
    }
  ]
}