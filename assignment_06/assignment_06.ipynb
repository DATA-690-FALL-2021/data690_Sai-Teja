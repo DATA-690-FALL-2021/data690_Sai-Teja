{
  "nbformat": 4,
  "nbformat_minor": 0,
  "metadata": {
    "colab": {
      "name": "assignment_06.ipynb",
      "provenance": [],
      "authorship_tag": "ABX9TyNyORUxlePGPOggfJ174bCR",
      "include_colab_link": true
    },
    "kernelspec": {
      "name": "python3",
      "display_name": "Python 3"
    },
    "language_info": {
      "name": "python"
    }
  },
  "cells": [
    {
      "cell_type": "markdown",
      "metadata": {
        "id": "view-in-github",
        "colab_type": "text"
      },
      "source": [
        "<a href=\"https://colab.research.google.com/github/asaitej1/data690_Sai-Teja/blob/main/assignment_06/assignment_06.ipynb\" target=\"_parent\"><img src=\"https://colab.research.google.com/assets/colab-badge.svg\" alt=\"Open In Colab\"/></a>"
      ]
    },
    {
      "cell_type": "markdown",
      "metadata": {
        "id": "fTj-bQ0CyBxf"
      },
      "source": [
        "# Assignment 06\n",
        "## Note:\n",
        "For visualization, you should use Plotly Express\n",
        "Use use this notebook as your template and follow the instructions\n",
        "The first half of this assignment is a repeat of assignment 05.\n",
        "\n",
        "This gives you a chance to refresh.\n",
        "\n",
        "The second half is new and gives you a chance to perform additional practices.\n",
        "\n",
        "You also get a chance to use some of the Python libraries and techniques.\n",
        "\n",
        "The links to the zip file is:\n",
        "\n",
        "https://data.ed.gov/dataset/college-scorecard-all-data-files-through-6-2020/resources (The page containing link to the zip file)\n",
        "\n",
        "https://ed-public-download.app.cloud.gov/downloads/CollegeScorecard_Raw_Data_01192021.zip (The link to download the zip file)\n",
        "\n",
        "You can upload the zip file there or run !wget command to retrieve it directly, then run !unzip command to extract files.\n",
        "\n",
        "You can also unzip and upload individual files to Colab.\n",
        "\n",
        "Your folder structure should look like this in your Colab enviroment:\n",
        "\n",
        "- assignment_07.ipynb\n",
        "- raw_data/\n",
        "        - ...\n",
        "        - 'MERGED1996_97_PP.csv',\n",
        "        - 'MERGED2015_16_PP.csv',\n",
        "        - ...\n",
        "        - 'MERGED2017_18_PP.csv'\n",
        "        - ..."
      ]
    },
    {
      "cell_type": "code",
      "metadata": {
        "colab": {
          "base_uri": "https://localhost:8080/"
        },
        "id": "KM1G4RPlx8m3",
        "outputId": "285f9f7c-36cb-499d-8374-19b166bee0ec"
      },
      "source": [
        "!wget https://ed-public-download.app.cloud.gov/downloads/CollegeScorecard_Raw_Data_01192021.zip"
      ],
      "execution_count": 1,
      "outputs": [
        {
          "output_type": "stream",
          "name": "stdout",
          "text": [
            "--2021-10-14 17:13:50--  https://ed-public-download.app.cloud.gov/downloads/CollegeScorecard_Raw_Data_01192021.zip\n",
            "Resolving ed-public-download.app.cloud.gov (ed-public-download.app.cloud.gov)... 15.200.243.39, 15.205.92.235, 2600:1f12:18a:7d01:29c7:6ff5:8ad8:c8f0, ...\n",
            "Connecting to ed-public-download.app.cloud.gov (ed-public-download.app.cloud.gov)|15.200.243.39|:443... connected.\n",
            "HTTP request sent, awaiting response... 200 OK\n",
            "Length: 385541173 (368M) [application/zip]\n",
            "Saving to: ‘CollegeScorecard_Raw_Data_01192021.zip’\n",
            "\n",
            "CollegeScorecard_Ra 100%[===================>] 367.68M  34.2MB/s    in 12s     \n",
            "\n",
            "2021-10-14 17:14:02 (31.8 MB/s) - ‘CollegeScorecard_Raw_Data_01192021.zip’ saved [385541173/385541173]\n",
            "\n"
          ]
        }
      ]
    },
    {
      "cell_type": "code",
      "metadata": {
        "colab": {
          "base_uri": "https://localhost:8080/"
        },
        "id": "8s0OTYDLzCeT",
        "outputId": "0b453fda-2853-48b9-afd5-848d89c3f17e"
      },
      "source": [
        "!unzip CollegeScorecard_Raw_Data_01192021.zip"
      ],
      "execution_count": 2,
      "outputs": [
        {
          "output_type": "stream",
          "name": "stdout",
          "text": [
            "Archive:  CollegeScorecard_Raw_Data_01192021.zip\n",
            "   creating: Raw Data Files/\n",
            "  inflating: Raw Data Files/MERGED2011_12_PP.csv  \n",
            "  inflating: Raw Data Files/MERGED1999_00_PP.csv  \n",
            "  inflating: Raw Data Files/MERGED2006_07_PP.csv  \n",
            "  inflating: Raw Data Files/MERGED2014_15_PP.csv  \n",
            "  inflating: Raw Data Files/Most-Recent-Cohorts-All-Data-Elements.csv  \n",
            "  inflating: __MACOSX/Raw Data Files/._Most-Recent-Cohorts-All-Data-Elements.csv  \n",
            "  inflating: Raw Data Files/MERGED2003_04_PP.csv  \n",
            "  inflating: Raw Data Files/MERGED1996_97_PP.csv  \n",
            "  inflating: Raw Data Files/FieldOfStudyData1516_1617_PP.csv  \n",
            "  inflating: Raw Data Files/Most-Recent-Cohorts-Field-of-Study.csv  \n",
            "  inflating: Raw Data Files/MERGED2012_13_PP.csv  \n",
            "  inflating: Raw Data Files/MERGED2005_06_PP.csv  \n",
            "  inflating: Raw Data Files/MERGED2009_10_PP.csv  \n",
            "  inflating: Raw Data Files/FieldOfStudyData1617_1718_PP.csv  \n",
            "  inflating: Raw Data Files/MERGED2018_19_PP.csv  \n",
            "  inflating: Raw Data Files/MERGED2017_18_PP.csv  \n",
            "  inflating: Raw Data Files/Crosswalks.zip  \n",
            "  inflating: __MACOSX/Raw Data Files/._Crosswalks.zip  \n",
            "  inflating: Raw Data Files/MERGED2000_01_PP.csv  \n",
            "  inflating: Raw Data Files/MERGED2001_02_PP.csv  \n",
            "  inflating: Raw Data Files/MERGED2016_17_PP.csv  \n",
            "  inflating: Raw Data Files/MERGED1997_98_PP.csv  \n",
            "  inflating: Raw Data Files/MERGED1998_99_PP.csv  \n",
            "  inflating: Raw Data Files/data.yaml  \n",
            "  inflating: Raw Data Files/MERGED2004_05_PP.csv  \n",
            "  inflating: Raw Data Files/MERGED2002_03_PP.csv  \n",
            "  inflating: Raw Data Files/MERGED2015_16_PP.csv  \n",
            "  inflating: Raw Data Files/MERGED2013_14_PP.csv  \n",
            "  inflating: Raw Data Files/MERGED2007_08_PP.csv  \n",
            "  inflating: Raw Data Files/MERGED2008_09_PP.csv  \n",
            "  inflating: Raw Data Files/MERGED2010_11_PP.csv  \n",
            "  inflating: Raw Data Files/FieldOfStudyData1415_1516_PP.csv  \n",
            "  inflating: __MACOSX/Raw Data Files/._FieldOfStudyData1415_1516_PP.csv  \n"
          ]
        }
      ]
    },
    {
      "cell_type": "code",
      "metadata": {
        "id": "YA3SkFwizbZE"
      },
      "source": [
        "# <1> \n",
        "# Import libraries\n",
        "\n",
        "#(Write code here)\n",
        "\n",
        "import pandas as pd\n",
        "import os \n",
        "import numpy as np\n",
        "import seaborn as sns\n",
        "import matplotlib.pyplot as plt\n",
        "%matplotlib inline\n",
        "import glob"
      ],
      "execution_count": 3,
      "outputs": []
    },
    {
      "cell_type": "code",
      "metadata": {
        "colab": {
          "base_uri": "https://localhost:8080/"
        },
        "id": "GiqCb2ifz5IK",
        "outputId": "d2cb1c60-7fc4-49ec-8a53-cc9b81915d8b"
      },
      "source": [
        "# <2> \n",
        "# Display the current workin directory using os.getcwd()\n",
        "# you would need to import a standard Python library called os which stands for operating system,\n",
        "# so place that import statement in the previous cell.\n",
        "# Since your notebook and your data files are not in # the same folder, \n",
        "# you want to make sure what is the current working folder and \n",
        "# how to access a data file in a different folder\n",
        "#(Write code here)\n",
        "print(os.getcwd())\n",
        "a = '/content/Raw Data Files'\n",
        "file = os.listdir(a)"
      ],
      "execution_count": 4,
      "outputs": [
        {
          "output_type": "stream",
          "name": "stdout",
          "text": [
            "/content\n"
          ]
        }
      ]
    },
    {
      "cell_type": "code",
      "metadata": {
        "colab": {
          "base_uri": "https://localhost:8080/"
        },
        "id": "3gm7EC5H0oJh",
        "outputId": "6265c0d6-e3f5-4821-9726-ee87eed2493e"
      },
      "source": [
        "# <3> \n",
        "#(Write code here)\n",
        "\n",
        "# os library has a method call listdir which generates a list of files in a directory/folder.\n",
        "# use this method to assign the contents (list of file names) of the data folder to a variable and display it.\n",
        "# # You can use ../ construct to traverse to the parent folder and then to another foloder parallel to the current folder\n",
        "\n",
        "#(Write code here)\n",
        "all_files  = os.listdir(a)\n",
        "print(all_files)\n"
      ],
      "execution_count": 18,
      "outputs": [
        {
          "output_type": "stream",
          "name": "stdout",
          "text": [
            "['MERGED2012_13_PP.csv', 'MERGED2011_12_PP.csv', 'FieldOfStudyData1617_1718_PP.csv', 'MERGED2000_01_PP.csv', 'FieldOfStudyData1516_1617_PP.csv', 'MERGED2018_19_PP.csv', 'data.yaml', 'MERGED1999_00_PP.csv', 'MERGED2005_06_PP.csv', 'MERGED2006_07_PP.csv', 'MERGED1997_98_PP.csv', 'MERGED2001_02_PP.csv', 'MERGED2004_05_PP.csv', 'MERGED1996_97_PP.csv', 'MERGED2014_15_PP.csv', 'MERGED1998_99_PP.csv', 'MERGED2015_16_PP.csv', 'MERGED2002_03_PP.csv', 'MERGED2007_08_PP.csv', 'MERGED2010_11_PP.csv', 'MERGED2016_17_PP.csv', 'Most-Recent-Cohorts-All-Data-Elements.csv', 'Crosswalks.zip', 'MERGED2017_18_PP.csv', 'MERGED2013_14_PP.csv', 'MERGED2008_09_PP.csv', 'MERGED2009_10_PP.csv', 'MERGED2003_04_PP.csv', 'FieldOfStudyData1415_1516_PP.csv', 'Most-Recent-Cohorts-Field-of-Study.csv']\n"
          ]
        }
      ]
    },
    {
      "cell_type": "code",
      "metadata": {
        "colab": {
          "base_uri": "https://localhost:8080/"
        },
        "id": "4FcSOnur1Voe",
        "outputId": "bf5c8b3e-e697-4444-eb55-cdb3292fb613"
      },
      "source": [
        "# <4> \n",
        "# The folder contains files that are not the yearly data files\n",
        "# write code to remove the unwanted files from the list vsriable \n",
        "# Note: don't remove/delete these files from the folder in your drive\n",
        "# For example, use the file extension to only keep the csv files \n",
        "# or use the name patter - data file name begins with \"MERGED\"\n",
        "# You can use the concept of list comprehension to write just \n",
        "# one line of code as well as using a for loop, your choice.\n",
        "#(Write code here)\n",
        "merged_files = [file for file in all_files if 'MERGED' in file]\n",
        "print(merged_files)\n"
      ],
      "execution_count": 19,
      "outputs": [
        {
          "output_type": "stream",
          "name": "stdout",
          "text": [
            "['MERGED2012_13_PP.csv', 'MERGED2011_12_PP.csv', 'MERGED2000_01_PP.csv', 'MERGED2018_19_PP.csv', 'MERGED1999_00_PP.csv', 'MERGED2005_06_PP.csv', 'MERGED2006_07_PP.csv', 'MERGED1997_98_PP.csv', 'MERGED2001_02_PP.csv', 'MERGED2004_05_PP.csv', 'MERGED1996_97_PP.csv', 'MERGED2014_15_PP.csv', 'MERGED1998_99_PP.csv', 'MERGED2015_16_PP.csv', 'MERGED2002_03_PP.csv', 'MERGED2007_08_PP.csv', 'MERGED2010_11_PP.csv', 'MERGED2016_17_PP.csv', 'MERGED2017_18_PP.csv', 'MERGED2013_14_PP.csv', 'MERGED2008_09_PP.csv', 'MERGED2009_10_PP.csv', 'MERGED2003_04_PP.csv']\n"
          ]
        }
      ]
    },
    {
      "cell_type": "code",
      "metadata": {
        "id": "aLyP6k7n1fV3"
      },
      "source": [
        "# <5> \n",
        "# Now that you have a clean list of the yearly files, you want to loop through them\n",
        "# and read them into a dataframe one at a time. You only load six columns: \n",
        "# [\"UNITID\", \"INSTNM\", \"STABBR\", \"REGION\", \"ADM_RATE\", \"TUITIONFEE_IN\"].\n",
        "# You should use \"usecols\" option of Pandas to avoid reading unwanted columns.\n",
        "# You also want to add a new column call \"YEAR\" to differentiate the data frames from each other.\n",
        "# The YEAR variable should be yyyy format so tht you can convert them into integer.\n",
        "# if you use the format yyyy-yy (such as 1997-98 school year), you will not be able to convert them directly to integer\n",
        "# if you use scatter plot, the YEAR needs to be converted to integer or float. \n",
        "# \n",
        "# You would use an empty list and append the yearly dataframes to the list.\n",
        "# After all data files are loaded and appended to the list, you would use Pandas to concatenate them into a \n",
        "# new single data frame.\n",
        "# Note: this exercise incorporates many techques we learned before\n",
        "# - list (creating an empty, append an item to the list)\n",
        "# - for loop \n",
        "# - read only the needed columns from a file (using usecols option)\n",
        "# - add a new column to a data frame\n",
        "# - concatenate multiple dataframes into a single one\n",
        "# This exercise may appear a big challenging but it worths the effort. You will learn a lot and  love it. I promise.\n",
        "df_list = []\n",
        "def read(file):\n",
        "    df = pd.read_csv(a+'/'+x,usecols=['UNITID','INSTNM','STABBR','REGION','ADM_RATE','TUITIONFEE_IN'])\n",
        "    df['year'] = x.split('_')[0].replace('MERGED','')\n",
        "    df_list.append(df)\n",
        "\n",
        "for file in files:\n",
        "    read(x)"
      ],
      "execution_count": 25,
      "outputs": []
    },
    {
      "cell_type": "code",
      "metadata": {
        "id": "550c8pNvAQSt"
      },
      "source": [
        "df1 = pd.concat(df_list)"
      ],
      "execution_count": 27,
      "outputs": []
    },
    {
      "cell_type": "code",
      "metadata": {
        "colab": {
          "base_uri": "https://localhost:8080/"
        },
        "id": "Q0BMiZ5EAgry",
        "outputId": "46a6b159-301e-42ee-fe7d-75fa31be6812"
      },
      "source": [
        "# <6> \n",
        "# explore the new dataframe (# of observations, varibles, head, tail, sample, missing values, statistics,etc.)\n",
        "df1.shape[0]"
      ],
      "execution_count": 29,
      "outputs": [
        {
          "output_type": "execute_result",
          "data": {
            "text/plain": [
              "163331"
            ]
          },
          "metadata": {},
          "execution_count": 29
        }
      ]
    },
    {
      "cell_type": "code",
      "metadata": {
        "colab": {
          "base_uri": "https://localhost:8080/"
        },
        "id": "TuNWT8ugA7qJ",
        "outputId": "a187b0a5-e072-4856-d754-87ee2b95776d"
      },
      "source": [
        "df1.columns"
      ],
      "execution_count": 30,
      "outputs": [
        {
          "output_type": "execute_result",
          "data": {
            "text/plain": [
              "Index(['UNITID', 'INSTNM', 'STABBR', 'REGION', 'ADM_RATE', 'TUITIONFEE_IN',\n",
              "       'year'],\n",
              "      dtype='object')"
            ]
          },
          "metadata": {},
          "execution_count": 30
        }
      ]
    },
    {
      "cell_type": "code",
      "metadata": {
        "colab": {
          "base_uri": "https://localhost:8080/",
          "height": 204
        },
        "id": "-0xGP43uA807",
        "outputId": "1276576e-08ad-4dd0-e26f-467be8645f88"
      },
      "source": [
        "df1.head()"
      ],
      "execution_count": 31,
      "outputs": [
        {
          "output_type": "execute_result",
          "data": {
            "text/html": [
              "<div>\n",
              "<style scoped>\n",
              "    .dataframe tbody tr th:only-of-type {\n",
              "        vertical-align: middle;\n",
              "    }\n",
              "\n",
              "    .dataframe tbody tr th {\n",
              "        vertical-align: top;\n",
              "    }\n",
              "\n",
              "    .dataframe thead th {\n",
              "        text-align: right;\n",
              "    }\n",
              "</style>\n",
              "<table border=\"1\" class=\"dataframe\">\n",
              "  <thead>\n",
              "    <tr style=\"text-align: right;\">\n",
              "      <th></th>\n",
              "      <th>UNITID</th>\n",
              "      <th>INSTNM</th>\n",
              "      <th>STABBR</th>\n",
              "      <th>REGION</th>\n",
              "      <th>ADM_RATE</th>\n",
              "      <th>TUITIONFEE_IN</th>\n",
              "      <th>year</th>\n",
              "    </tr>\n",
              "  </thead>\n",
              "  <tbody>\n",
              "    <tr>\n",
              "      <th>0</th>\n",
              "      <td>100636</td>\n",
              "      <td>Community College of the Air Force</td>\n",
              "      <td>AL</td>\n",
              "      <td>0.0</td>\n",
              "      <td>NaN</td>\n",
              "      <td>NaN</td>\n",
              "      <td>2012</td>\n",
              "    </tr>\n",
              "    <tr>\n",
              "      <th>1</th>\n",
              "      <td>100654</td>\n",
              "      <td>Alabama A &amp; M University</td>\n",
              "      <td>AL</td>\n",
              "      <td>5.0</td>\n",
              "      <td>0.5438</td>\n",
              "      <td>7182.0</td>\n",
              "      <td>2012</td>\n",
              "    </tr>\n",
              "    <tr>\n",
              "      <th>2</th>\n",
              "      <td>100663</td>\n",
              "      <td>University of Alabama at Birmingham</td>\n",
              "      <td>AL</td>\n",
              "      <td>5.0</td>\n",
              "      <td>0.7223</td>\n",
              "      <td>6798.0</td>\n",
              "      <td>2012</td>\n",
              "    </tr>\n",
              "    <tr>\n",
              "      <th>3</th>\n",
              "      <td>100690</td>\n",
              "      <td>Amridge University</td>\n",
              "      <td>AL</td>\n",
              "      <td>5.0</td>\n",
              "      <td>NaN</td>\n",
              "      <td>6800.0</td>\n",
              "      <td>2012</td>\n",
              "    </tr>\n",
              "    <tr>\n",
              "      <th>4</th>\n",
              "      <td>100706</td>\n",
              "      <td>University of Alabama in Huntsville</td>\n",
              "      <td>AL</td>\n",
              "      <td>5.0</td>\n",
              "      <td>0.7766</td>\n",
              "      <td>8794.0</td>\n",
              "      <td>2012</td>\n",
              "    </tr>\n",
              "  </tbody>\n",
              "</table>\n",
              "</div>"
            ],
            "text/plain": [
              "   UNITID                               INSTNM  ... TUITIONFEE_IN  year\n",
              "0  100636   Community College of the Air Force  ...           NaN  2012\n",
              "1  100654             Alabama A & M University  ...        7182.0  2012\n",
              "2  100663  University of Alabama at Birmingham  ...        6798.0  2012\n",
              "3  100690                   Amridge University  ...        6800.0  2012\n",
              "4  100706  University of Alabama in Huntsville  ...        8794.0  2012\n",
              "\n",
              "[5 rows x 7 columns]"
            ]
          },
          "metadata": {},
          "execution_count": 31
        }
      ]
    },
    {
      "cell_type": "code",
      "metadata": {
        "colab": {
          "base_uri": "https://localhost:8080/",
          "height": 204
        },
        "id": "th8Lk718BF0C",
        "outputId": "0c723aeb-51a0-4076-e8b1-7cc53cd12223"
      },
      "source": [
        "df1.tail()"
      ],
      "execution_count": 32,
      "outputs": [
        {
          "output_type": "execute_result",
          "data": {
            "text/html": [
              "<div>\n",
              "<style scoped>\n",
              "    .dataframe tbody tr th:only-of-type {\n",
              "        vertical-align: middle;\n",
              "    }\n",
              "\n",
              "    .dataframe tbody tr th {\n",
              "        vertical-align: top;\n",
              "    }\n",
              "\n",
              "    .dataframe thead th {\n",
              "        text-align: right;\n",
              "    }\n",
              "</style>\n",
              "<table border=\"1\" class=\"dataframe\">\n",
              "  <thead>\n",
              "    <tr style=\"text-align: right;\">\n",
              "      <th></th>\n",
              "      <th>UNITID</th>\n",
              "      <th>INSTNM</th>\n",
              "      <th>STABBR</th>\n",
              "      <th>REGION</th>\n",
              "      <th>ADM_RATE</th>\n",
              "      <th>TUITIONFEE_IN</th>\n",
              "      <th>year</th>\n",
              "    </tr>\n",
              "  </thead>\n",
              "  <tbody>\n",
              "    <tr>\n",
              "      <th>6668</th>\n",
              "      <td>444042</td>\n",
              "      <td>National University College-Rio Grande</td>\n",
              "      <td>PR</td>\n",
              "      <td>9.0</td>\n",
              "      <td>0.8782</td>\n",
              "      <td>4480.0</td>\n",
              "      <td>2003</td>\n",
              "    </tr>\n",
              "    <tr>\n",
              "      <th>6669</th>\n",
              "      <td>444051</td>\n",
              "      <td>Creative Images Institute of Cosmetology-South...</td>\n",
              "      <td>OH</td>\n",
              "      <td>3.0</td>\n",
              "      <td>NaN</td>\n",
              "      <td>NaN</td>\n",
              "      <td>2003</td>\n",
              "    </tr>\n",
              "    <tr>\n",
              "      <th>6670</th>\n",
              "      <td>444060</td>\n",
              "      <td>Westwood College-Houston South</td>\n",
              "      <td>TX</td>\n",
              "      <td>6.0</td>\n",
              "      <td>0.9500</td>\n",
              "      <td>10938.0</td>\n",
              "      <td>2003</td>\n",
              "    </tr>\n",
              "    <tr>\n",
              "      <th>6671</th>\n",
              "      <td>444079</td>\n",
              "      <td>Fortis Institute-Jacksonville</td>\n",
              "      <td>FL</td>\n",
              "      <td>5.0</td>\n",
              "      <td>NaN</td>\n",
              "      <td>NaN</td>\n",
              "      <td>2003</td>\n",
              "    </tr>\n",
              "    <tr>\n",
              "      <th>6672</th>\n",
              "      <td>444088</td>\n",
              "      <td>Brookline College-Albuquerque</td>\n",
              "      <td>NM</td>\n",
              "      <td>6.0</td>\n",
              "      <td>NaN</td>\n",
              "      <td>NaN</td>\n",
              "      <td>2003</td>\n",
              "    </tr>\n",
              "  </tbody>\n",
              "</table>\n",
              "</div>"
            ],
            "text/plain": [
              "      UNITID  ...  year\n",
              "6668  444042  ...  2003\n",
              "6669  444051  ...  2003\n",
              "6670  444060  ...  2003\n",
              "6671  444079  ...  2003\n",
              "6672  444088  ...  2003\n",
              "\n",
              "[5 rows x 7 columns]"
            ]
          },
          "metadata": {},
          "execution_count": 32
        }
      ]
    },
    {
      "cell_type": "code",
      "metadata": {
        "colab": {
          "base_uri": "https://localhost:8080/",
          "height": 204
        },
        "id": "73zFfpThBKRT",
        "outputId": "452e0a6c-ead9-45d9-a4bc-a328d5d91259"
      },
      "source": [
        "df1.sample(5)"
      ],
      "execution_count": 33,
      "outputs": [
        {
          "output_type": "execute_result",
          "data": {
            "text/html": [
              "<div>\n",
              "<style scoped>\n",
              "    .dataframe tbody tr th:only-of-type {\n",
              "        vertical-align: middle;\n",
              "    }\n",
              "\n",
              "    .dataframe tbody tr th {\n",
              "        vertical-align: top;\n",
              "    }\n",
              "\n",
              "    .dataframe thead th {\n",
              "        text-align: right;\n",
              "    }\n",
              "</style>\n",
              "<table border=\"1\" class=\"dataframe\">\n",
              "  <thead>\n",
              "    <tr style=\"text-align: right;\">\n",
              "      <th></th>\n",
              "      <th>UNITID</th>\n",
              "      <th>INSTNM</th>\n",
              "      <th>STABBR</th>\n",
              "      <th>REGION</th>\n",
              "      <th>ADM_RATE</th>\n",
              "      <th>TUITIONFEE_IN</th>\n",
              "      <th>year</th>\n",
              "    </tr>\n",
              "  </thead>\n",
              "  <tbody>\n",
              "    <tr>\n",
              "      <th>4582</th>\n",
              "      <td>261384</td>\n",
              "      <td>Tulsa Technology Center-Riverside Campus</td>\n",
              "      <td>OK</td>\n",
              "      <td>6.0</td>\n",
              "      <td>NaN</td>\n",
              "      <td>NaN</td>\n",
              "      <td>2011</td>\n",
              "    </tr>\n",
              "    <tr>\n",
              "      <th>1077</th>\n",
              "      <td>143552</td>\n",
              "      <td>Capri Beauty College</td>\n",
              "      <td>IL</td>\n",
              "      <td>3.0</td>\n",
              "      <td>0.8791</td>\n",
              "      <td>NaN</td>\n",
              "      <td>2009</td>\n",
              "    </tr>\n",
              "    <tr>\n",
              "      <th>2628</th>\n",
              "      <td>190664</td>\n",
              "      <td>CUNY Queens College</td>\n",
              "      <td>NY</td>\n",
              "      <td>2.0</td>\n",
              "      <td>0.3762</td>\n",
              "      <td>5047.0</td>\n",
              "      <td>2009</td>\n",
              "    </tr>\n",
              "    <tr>\n",
              "      <th>1211</th>\n",
              "      <td>148937</td>\n",
              "      <td>Southeastern Illinois College</td>\n",
              "      <td>IL</td>\n",
              "      <td>3.0</td>\n",
              "      <td>NaN</td>\n",
              "      <td>2760.0</td>\n",
              "      <td>2011</td>\n",
              "    </tr>\n",
              "    <tr>\n",
              "      <th>6019</th>\n",
              "      <td>439613</td>\n",
              "      <td>College of Biblical Studies</td>\n",
              "      <td>TX</td>\n",
              "      <td>6.0</td>\n",
              "      <td>NaN</td>\n",
              "      <td>6900.0</td>\n",
              "      <td>2006</td>\n",
              "    </tr>\n",
              "  </tbody>\n",
              "</table>\n",
              "</div>"
            ],
            "text/plain": [
              "      UNITID                                    INSTNM  ... TUITIONFEE_IN  year\n",
              "4582  261384  Tulsa Technology Center-Riverside Campus  ...           NaN  2011\n",
              "1077  143552                      Capri Beauty College  ...           NaN  2009\n",
              "2628  190664                       CUNY Queens College  ...        5047.0  2009\n",
              "1211  148937             Southeastern Illinois College  ...        2760.0  2011\n",
              "6019  439613               College of Biblical Studies  ...        6900.0  2006\n",
              "\n",
              "[5 rows x 7 columns]"
            ]
          },
          "metadata": {},
          "execution_count": 33
        }
      ]
    },
    {
      "cell_type": "code",
      "metadata": {
        "colab": {
          "base_uri": "https://localhost:8080/"
        },
        "id": "PfpK8D3sBYMW",
        "outputId": "494212ee-79e1-4f59-ee0e-b1d910667385"
      },
      "source": [
        "df1.isnull().sum()"
      ],
      "execution_count": 34,
      "outputs": [
        {
          "output_type": "execute_result",
          "data": {
            "text/plain": [
              "UNITID                0\n",
              "INSTNM                0\n",
              "STABBR                0\n",
              "REGION                1\n",
              "ADM_RATE         118419\n",
              "TUITIONFEE_IN     84136\n",
              "year                  0\n",
              "dtype: int64"
            ]
          },
          "metadata": {},
          "execution_count": 34
        }
      ]
    },
    {
      "cell_type": "code",
      "metadata": {
        "colab": {
          "base_uri": "https://localhost:8080/",
          "height": 297
        },
        "id": "H1aRwcXsBblu",
        "outputId": "d12e9f37-4d4e-43dd-8150-b5b9a29f140c"
      },
      "source": [
        "df1.describe()"
      ],
      "execution_count": 35,
      "outputs": [
        {
          "output_type": "execute_result",
          "data": {
            "text/html": [
              "<div>\n",
              "<style scoped>\n",
              "    .dataframe tbody tr th:only-of-type {\n",
              "        vertical-align: middle;\n",
              "    }\n",
              "\n",
              "    .dataframe tbody tr th {\n",
              "        vertical-align: top;\n",
              "    }\n",
              "\n",
              "    .dataframe thead th {\n",
              "        text-align: right;\n",
              "    }\n",
              "</style>\n",
              "<table border=\"1\" class=\"dataframe\">\n",
              "  <thead>\n",
              "    <tr style=\"text-align: right;\">\n",
              "      <th></th>\n",
              "      <th>UNITID</th>\n",
              "      <th>REGION</th>\n",
              "      <th>ADM_RATE</th>\n",
              "      <th>TUITIONFEE_IN</th>\n",
              "    </tr>\n",
              "  </thead>\n",
              "  <tbody>\n",
              "    <tr>\n",
              "      <th>count</th>\n",
              "      <td>1.633310e+05</td>\n",
              "      <td>163330.000000</td>\n",
              "      <td>44912.000000</td>\n",
              "      <td>79195.000000</td>\n",
              "    </tr>\n",
              "    <tr>\n",
              "      <th>mean</th>\n",
              "      <td>9.432395e+05</td>\n",
              "      <td>4.554693</td>\n",
              "      <td>0.692951</td>\n",
              "      <td>11665.636871</td>\n",
              "    </tr>\n",
              "    <tr>\n",
              "      <th>std</th>\n",
              "      <td>4.571721e+06</td>\n",
              "      <td>2.189217</td>\n",
              "      <td>0.217058</td>\n",
              "      <td>9986.003542</td>\n",
              "    </tr>\n",
              "    <tr>\n",
              "      <th>min</th>\n",
              "      <td>1.006360e+05</td>\n",
              "      <td>0.000000</td>\n",
              "      <td>0.000000</td>\n",
              "      <td>0.000000</td>\n",
              "    </tr>\n",
              "    <tr>\n",
              "      <th>25%</th>\n",
              "      <td>1.633380e+05</td>\n",
              "      <td>3.000000</td>\n",
              "      <td>0.555075</td>\n",
              "      <td>3776.000000</td>\n",
              "    </tr>\n",
              "    <tr>\n",
              "      <th>50%</th>\n",
              "      <td>2.127800e+05</td>\n",
              "      <td>5.000000</td>\n",
              "      <td>0.717500</td>\n",
              "      <td>9285.000000</td>\n",
              "    </tr>\n",
              "    <tr>\n",
              "      <th>75%</th>\n",
              "      <td>4.075680e+05</td>\n",
              "      <td>6.000000</td>\n",
              "      <td>0.857100</td>\n",
              "      <td>16148.000000</td>\n",
              "    </tr>\n",
              "    <tr>\n",
              "      <th>max</th>\n",
              "      <td>4.914640e+07</td>\n",
              "      <td>9.000000</td>\n",
              "      <td>1.000000</td>\n",
              "      <td>74787.000000</td>\n",
              "    </tr>\n",
              "  </tbody>\n",
              "</table>\n",
              "</div>"
            ],
            "text/plain": [
              "             UNITID         REGION      ADM_RATE  TUITIONFEE_IN\n",
              "count  1.633310e+05  163330.000000  44912.000000   79195.000000\n",
              "mean   9.432395e+05       4.554693      0.692951   11665.636871\n",
              "std    4.571721e+06       2.189217      0.217058    9986.003542\n",
              "min    1.006360e+05       0.000000      0.000000       0.000000\n",
              "25%    1.633380e+05       3.000000      0.555075    3776.000000\n",
              "50%    2.127800e+05       5.000000      0.717500    9285.000000\n",
              "75%    4.075680e+05       6.000000      0.857100   16148.000000\n",
              "max    4.914640e+07       9.000000      1.000000   74787.000000"
            ]
          },
          "metadata": {},
          "execution_count": 35
        }
      ]
    },
    {
      "cell_type": "code",
      "metadata": {
        "id": "J0SA4lkOBnh0"
      },
      "source": [
        "# <7>\n",
        "# the dataframe contains many years of data of all U.S. colleges.\n",
        "# let's just look at UMBC\n",
        "# filter/query the dataframe to retrieve only rows that belong to UMBC\n",
        "# save the UMNC data to a new data frame. using a new variable \n",
        "# so that the old big data frame is still available for later use.\n",
        "\n",
        "#(Write code here)\n",
        "df_UMBC = df1[df1['INSTNM'] == 'University of Maryland-Baltimore County']"
      ],
      "execution_count": 40,
      "outputs": []
    },
    {
      "cell_type": "code",
      "metadata": {
        "colab": {
          "base_uri": "https://localhost:8080/"
        },
        "id": "d20QlEL_B9hk",
        "outputId": "6c16e13a-1350-44f5-a27f-d3f2bdfd6367"
      },
      "source": [
        "# <8>\n",
        "# Explore this UMBC dataframe (# of observations, varibles, head, tail, sample, missing values, statistics,etc.)\n",
        "df_umbc.shape[0]"
      ],
      "execution_count": 47,
      "outputs": [
        {
          "output_type": "execute_result",
          "data": {
            "text/plain": [
              "23"
            ]
          },
          "metadata": {},
          "execution_count": 47
        }
      ]
    },
    {
      "cell_type": "code",
      "metadata": {
        "colab": {
          "base_uri": "https://localhost:8080/",
          "height": 204
        },
        "id": "uNLH2TqkDcES",
        "outputId": "10ef3635-2808-4f70-d4aa-7f87b4649cf3"
      },
      "source": [
        "df_umbc.head()"
      ],
      "execution_count": 48,
      "outputs": [
        {
          "output_type": "execute_result",
          "data": {
            "text/html": [
              "<div>\n",
              "<style scoped>\n",
              "    .dataframe tbody tr th:only-of-type {\n",
              "        vertical-align: middle;\n",
              "    }\n",
              "\n",
              "    .dataframe tbody tr th {\n",
              "        vertical-align: top;\n",
              "    }\n",
              "\n",
              "    .dataframe thead th {\n",
              "        text-align: right;\n",
              "    }\n",
              "</style>\n",
              "<table border=\"1\" class=\"dataframe\">\n",
              "  <thead>\n",
              "    <tr style=\"text-align: right;\">\n",
              "      <th></th>\n",
              "      <th>UNITID</th>\n",
              "      <th>INSTNM</th>\n",
              "      <th>STABBR</th>\n",
              "      <th>REGION</th>\n",
              "      <th>ADM_RATE</th>\n",
              "      <th>TUITIONFEE_IN</th>\n",
              "      <th>year</th>\n",
              "    </tr>\n",
              "  </thead>\n",
              "  <tbody>\n",
              "    <tr>\n",
              "      <th>1660</th>\n",
              "      <td>163268</td>\n",
              "      <td>University of Maryland-Baltimore County</td>\n",
              "      <td>MD</td>\n",
              "      <td>2.0</td>\n",
              "      <td>0.6035</td>\n",
              "      <td>9764.0</td>\n",
              "      <td>2012</td>\n",
              "    </tr>\n",
              "    <tr>\n",
              "      <th>1694</th>\n",
              "      <td>163268</td>\n",
              "      <td>University of Maryland-Baltimore County</td>\n",
              "      <td>MD</td>\n",
              "      <td>2.0</td>\n",
              "      <td>0.6081</td>\n",
              "      <td>9467.0</td>\n",
              "      <td>2011</td>\n",
              "    </tr>\n",
              "    <tr>\n",
              "      <th>1926</th>\n",
              "      <td>163268</td>\n",
              "      <td>University of Maryland-Baltimore County</td>\n",
              "      <td>MD</td>\n",
              "      <td>2.0</td>\n",
              "      <td>NaN</td>\n",
              "      <td>5490.0</td>\n",
              "      <td>2000</td>\n",
              "    </tr>\n",
              "    <tr>\n",
              "      <th>1415</th>\n",
              "      <td>163268</td>\n",
              "      <td>University of Maryland-Baltimore County</td>\n",
              "      <td>MD</td>\n",
              "      <td>2.0</td>\n",
              "      <td>0.5794</td>\n",
              "      <td>11778.0</td>\n",
              "      <td>2018</td>\n",
              "    </tr>\n",
              "    <tr>\n",
              "      <th>1955</th>\n",
              "      <td>163268</td>\n",
              "      <td>University of Maryland-Baltimore County</td>\n",
              "      <td>MD</td>\n",
              "      <td>2.0</td>\n",
              "      <td>NaN</td>\n",
              "      <td>NaN</td>\n",
              "      <td>1999</td>\n",
              "    </tr>\n",
              "  </tbody>\n",
              "</table>\n",
              "</div>"
            ],
            "text/plain": [
              "      UNITID                                   INSTNM  ... TUITIONFEE_IN  year\n",
              "1660  163268  University of Maryland-Baltimore County  ...        9764.0  2012\n",
              "1694  163268  University of Maryland-Baltimore County  ...        9467.0  2011\n",
              "1926  163268  University of Maryland-Baltimore County  ...        5490.0  2000\n",
              "1415  163268  University of Maryland-Baltimore County  ...       11778.0  2018\n",
              "1955  163268  University of Maryland-Baltimore County  ...           NaN  1999\n",
              "\n",
              "[5 rows x 7 columns]"
            ]
          },
          "metadata": {},
          "execution_count": 48
        }
      ]
    },
    {
      "cell_type": "code",
      "metadata": {
        "colab": {
          "base_uri": "https://localhost:8080/",
          "height": 312
        },
        "id": "-jLN10-VDdtj",
        "outputId": "3c450e97-9fe3-46e0-9485-bbf3917b65a9"
      },
      "source": [
        "# <9> \n",
        "# Plot UMBC's in-state tution overtime from 1996 to 2019 using Bar Chart\n",
        "#(Write code here)\n",
        "df_umbc=df_umbc.sort_values(by='year')\n",
        "df_umbc.plot(x=\"year\", y=[\"TUITIONFEE_IN\"], kind=\"bar\")"
      ],
      "execution_count": 73,
      "outputs": [
        {
          "output_type": "execute_result",
          "data": {
            "text/plain": [
              "<matplotlib.axes._subplots.AxesSubplot at 0x7f471e632350>"
            ]
          },
          "metadata": {},
          "execution_count": 73
        },
        {
          "output_type": "display_data",
          "data": {
            "image/png": "[encoded data removed]",
            "text/plain": [
              "<Figure size 432x288 with 1 Axes>"
            ]
          },
          "metadata": {
            "needs_background": "light"
          }
        }
      ]
    },
    {
      "cell_type": "code",
      "metadata": {
        "colab": {
          "base_uri": "https://localhost:8080/",
          "height": 297
        },
        "id": "EsGmJq0GD6E1",
        "outputId": "3775b641-4017-4244-b8b3-f567ff03c75c"
      },
      "source": [
        "# <10> \n",
        "# Plot UMBC's in-state tution overtime from 1996 to 2019 using Line Chart\n",
        "#(Write code here)\n",
        "df_umbc.plot(x=\"year\", y=[\"TUITIONFEE_IN\"], kind=\"line\")"
      ],
      "execution_count": 51,
      "outputs": [
        {
          "output_type": "execute_result",
          "data": {
            "text/plain": [
              "<matplotlib.axes._subplots.AxesSubplot at 0x7f471eca9b90>"
            ]
          },
          "metadata": {},
          "execution_count": 51
        },
        {
          "output_type": "display_data",
          "data": {
            "image/png": "[encoded data removed]",
            "text/plain": [
              "<Figure size 432x288 with 1 Axes>"
            ]
          },
          "metadata": {
            "needs_background": "light"
          }
        }
      ]
    },
    {
      "cell_type": "code",
      "metadata": {
        "colab": {
          "base_uri": "https://localhost:8080/",
          "height": 762
        },
        "id": "lDKX6g2OEPJl",
        "outputId": "507988e7-cd4d-4dde-ddfd-790856e16445"
      },
      "source": [
        "# <11>\n",
        "# Now let's look at the tuition growth rate year over year\n",
        "# We need to calculate UMBC tuition change percentage each year\n",
        "# First convert the TUITIONFEE_IN column to a Python List\n",
        "#(Write code here)\n",
        "tuition_list_umbc=df_umbc['TUITIONFEE_IN'].tolist()\n",
        "df_umbc"
      ],
      "execution_count": 66,
      "outputs": [
        {
          "output_type": "execute_result",
          "data": {
            "text/html": [
              "<div>\n",
              "<style scoped>\n",
              "    .dataframe tbody tr th:only-of-type {\n",
              "        vertical-align: middle;\n",
              "    }\n",
              "\n",
              "    .dataframe tbody tr th {\n",
              "        vertical-align: top;\n",
              "    }\n",
              "\n",
              "    .dataframe thead th {\n",
              "        text-align: right;\n",
              "    }\n",
              "</style>\n",
              "<table border=\"1\" class=\"dataframe\">\n",
              "  <thead>\n",
              "    <tr style=\"text-align: right;\">\n",
              "      <th></th>\n",
              "      <th>UNITID</th>\n",
              "      <th>INSTNM</th>\n",
              "      <th>STABBR</th>\n",
              "      <th>REGION</th>\n",
              "      <th>ADM_RATE</th>\n",
              "      <th>TUITIONFEE_IN</th>\n",
              "      <th>year</th>\n",
              "    </tr>\n",
              "  </thead>\n",
              "  <tbody>\n",
              "    <tr>\n",
              "      <th>2151</th>\n",
              "      <td>163268</td>\n",
              "      <td>University of Maryland-Baltimore County</td>\n",
              "      <td>MD</td>\n",
              "      <td>2.0</td>\n",
              "      <td>NaN</td>\n",
              "      <td>NaN</td>\n",
              "      <td>1996</td>\n",
              "    </tr>\n",
              "    <tr>\n",
              "      <th>2049</th>\n",
              "      <td>163268</td>\n",
              "      <td>University of Maryland-Baltimore County</td>\n",
              "      <td>MD</td>\n",
              "      <td>2.0</td>\n",
              "      <td>NaN</td>\n",
              "      <td>NaN</td>\n",
              "      <td>1997</td>\n",
              "    </tr>\n",
              "    <tr>\n",
              "      <th>1982</th>\n",
              "      <td>163268</td>\n",
              "      <td>University of Maryland-Baltimore County</td>\n",
              "      <td>MD</td>\n",
              "      <td>2.0</td>\n",
              "      <td>NaN</td>\n",
              "      <td>NaN</td>\n",
              "      <td>1998</td>\n",
              "    </tr>\n",
              "    <tr>\n",
              "      <th>1955</th>\n",
              "      <td>163268</td>\n",
              "      <td>University of Maryland-Baltimore County</td>\n",
              "      <td>MD</td>\n",
              "      <td>2.0</td>\n",
              "      <td>NaN</td>\n",
              "      <td>NaN</td>\n",
              "      <td>1999</td>\n",
              "    </tr>\n",
              "    <tr>\n",
              "      <th>1926</th>\n",
              "      <td>163268</td>\n",
              "      <td>University of Maryland-Baltimore County</td>\n",
              "      <td>MD</td>\n",
              "      <td>2.0</td>\n",
              "      <td>NaN</td>\n",
              "      <td>5490.0</td>\n",
              "      <td>2000</td>\n",
              "    </tr>\n",
              "    <tr>\n",
              "      <th>1915</th>\n",
              "      <td>163268</td>\n",
              "      <td>University of Maryland-Baltimore County</td>\n",
              "      <td>MD</td>\n",
              "      <td>2.0</td>\n",
              "      <td>0.6551</td>\n",
              "      <td>5910.0</td>\n",
              "      <td>2001</td>\n",
              "    </tr>\n",
              "    <tr>\n",
              "      <th>1893</th>\n",
              "      <td>163268</td>\n",
              "      <td>University of Maryland-Baltimore County</td>\n",
              "      <td>MD</td>\n",
              "      <td>2.0</td>\n",
              "      <td>0.6327</td>\n",
              "      <td>6362.0</td>\n",
              "      <td>2002</td>\n",
              "    </tr>\n",
              "    <tr>\n",
              "      <th>1873</th>\n",
              "      <td>163268</td>\n",
              "      <td>University of Maryland-Baltimore County</td>\n",
              "      <td>MD</td>\n",
              "      <td>2.0</td>\n",
              "      <td>0.5757</td>\n",
              "      <td>7388.0</td>\n",
              "      <td>2003</td>\n",
              "    </tr>\n",
              "    <tr>\n",
              "      <th>1830</th>\n",
              "      <td>163268</td>\n",
              "      <td>University of Maryland-Baltimore County</td>\n",
              "      <td>MD</td>\n",
              "      <td>2.0</td>\n",
              "      <td>0.7014</td>\n",
              "      <td>8020.0</td>\n",
              "      <td>2004</td>\n",
              "    </tr>\n",
              "    <tr>\n",
              "      <th>1819</th>\n",
              "      <td>163268</td>\n",
              "      <td>University of Maryland-Baltimore County</td>\n",
              "      <td>MD</td>\n",
              "      <td>2.0</td>\n",
              "      <td>0.7143</td>\n",
              "      <td>8520.0</td>\n",
              "      <td>2005</td>\n",
              "    </tr>\n",
              "    <tr>\n",
              "      <th>1799</th>\n",
              "      <td>163268</td>\n",
              "      <td>University of Maryland-Baltimore County</td>\n",
              "      <td>MD</td>\n",
              "      <td>2.0</td>\n",
              "      <td>0.7153</td>\n",
              "      <td>8622.0</td>\n",
              "      <td>2006</td>\n",
              "    </tr>\n",
              "    <tr>\n",
              "      <th>1779</th>\n",
              "      <td>163268</td>\n",
              "      <td>University of Maryland-Baltimore County</td>\n",
              "      <td>MD</td>\n",
              "      <td>2.0</td>\n",
              "      <td>0.6895</td>\n",
              "      <td>8708.0</td>\n",
              "      <td>2007</td>\n",
              "    </tr>\n",
              "    <tr>\n",
              "      <th>1767</th>\n",
              "      <td>163268</td>\n",
              "      <td>University of Maryland-Baltimore County</td>\n",
              "      <td>MD</td>\n",
              "      <td>2.0</td>\n",
              "      <td>0.7174</td>\n",
              "      <td>8780.0</td>\n",
              "      <td>2008</td>\n",
              "    </tr>\n",
              "    <tr>\n",
              "      <th>1745</th>\n",
              "      <td>163268</td>\n",
              "      <td>University of Maryland-Baltimore County</td>\n",
              "      <td>MD</td>\n",
              "      <td>2.0</td>\n",
              "      <td>0.6890</td>\n",
              "      <td>8872.0</td>\n",
              "      <td>2009</td>\n",
              "    </tr>\n",
              "    <tr>\n",
              "      <th>1710</th>\n",
              "      <td>163268</td>\n",
              "      <td>University of Maryland-Baltimore County</td>\n",
              "      <td>MD</td>\n",
              "      <td>2.0</td>\n",
              "      <td>0.6589</td>\n",
              "      <td>9171.0</td>\n",
              "      <td>2010</td>\n",
              "    </tr>\n",
              "    <tr>\n",
              "      <th>1694</th>\n",
              "      <td>163268</td>\n",
              "      <td>University of Maryland-Baltimore County</td>\n",
              "      <td>MD</td>\n",
              "      <td>2.0</td>\n",
              "      <td>0.6081</td>\n",
              "      <td>9467.0</td>\n",
              "      <td>2011</td>\n",
              "    </tr>\n",
              "    <tr>\n",
              "      <th>1660</th>\n",
              "      <td>163268</td>\n",
              "      <td>University of Maryland-Baltimore County</td>\n",
              "      <td>MD</td>\n",
              "      <td>2.0</td>\n",
              "      <td>0.6035</td>\n",
              "      <td>9764.0</td>\n",
              "      <td>2012</td>\n",
              "    </tr>\n",
              "    <tr>\n",
              "      <th>1629</th>\n",
              "      <td>163268</td>\n",
              "      <td>University of Maryland-Baltimore County</td>\n",
              "      <td>MD</td>\n",
              "      <td>2.0</td>\n",
              "      <td>0.6315</td>\n",
              "      <td>10068.0</td>\n",
              "      <td>2013</td>\n",
              "    </tr>\n",
              "    <tr>\n",
              "      <th>1610</th>\n",
              "      <td>163268</td>\n",
              "      <td>University of Maryland-Baltimore County</td>\n",
              "      <td>MD</td>\n",
              "      <td>2.0</td>\n",
              "      <td>0.5961</td>\n",
              "      <td>10384.0</td>\n",
              "      <td>2014</td>\n",
              "    </tr>\n",
              "    <tr>\n",
              "      <th>1555</th>\n",
              "      <td>163268</td>\n",
              "      <td>University of Maryland-Baltimore County</td>\n",
              "      <td>MD</td>\n",
              "      <td>2.0</td>\n",
              "      <td>0.5942</td>\n",
              "      <td>11006.0</td>\n",
              "      <td>2015</td>\n",
              "    </tr>\n",
              "    <tr>\n",
              "      <th>1510</th>\n",
              "      <td>163268</td>\n",
              "      <td>University of Maryland-Baltimore County</td>\n",
              "      <td>MD</td>\n",
              "      <td>2.0</td>\n",
              "      <td>0.5683</td>\n",
              "      <td>11264.0</td>\n",
              "      <td>2016</td>\n",
              "    </tr>\n",
              "    <tr>\n",
              "      <th>1478</th>\n",
              "      <td>163268</td>\n",
              "      <td>University of Maryland-Baltimore County</td>\n",
              "      <td>MD</td>\n",
              "      <td>2.0</td>\n",
              "      <td>0.6021</td>\n",
              "      <td>11518.0</td>\n",
              "      <td>2017</td>\n",
              "    </tr>\n",
              "    <tr>\n",
              "      <th>1415</th>\n",
              "      <td>163268</td>\n",
              "      <td>University of Maryland-Baltimore County</td>\n",
              "      <td>MD</td>\n",
              "      <td>2.0</td>\n",
              "      <td>0.5794</td>\n",
              "      <td>11778.0</td>\n",
              "      <td>2018</td>\n",
              "    </tr>\n",
              "  </tbody>\n",
              "</table>\n",
              "</div>"
            ],
            "text/plain": [
              "      UNITID                                   INSTNM  ... TUITIONFEE_IN  year\n",
              "2151  163268  University of Maryland-Baltimore County  ...           NaN  1996\n",
              "2049  163268  University of Maryland-Baltimore County  ...           NaN  1997\n",
              "1982  163268  University of Maryland-Baltimore County  ...           NaN  1998\n",
              "1955  163268  University of Maryland-Baltimore County  ...           NaN  1999\n",
              "1926  163268  University of Maryland-Baltimore County  ...        5490.0  2000\n",
              "1915  163268  University of Maryland-Baltimore County  ...        5910.0  2001\n",
              "1893  163268  University of Maryland-Baltimore County  ...        6362.0  2002\n",
              "1873  163268  University of Maryland-Baltimore County  ...        7388.0  2003\n",
              "1830  163268  University of Maryland-Baltimore County  ...        8020.0  2004\n",
              "1819  163268  University of Maryland-Baltimore County  ...        8520.0  2005\n",
              "1799  163268  University of Maryland-Baltimore County  ...        8622.0  2006\n",
              "1779  163268  University of Maryland-Baltimore County  ...        8708.0  2007\n",
              "1767  163268  University of Maryland-Baltimore County  ...        8780.0  2008\n",
              "1745  163268  University of Maryland-Baltimore County  ...        8872.0  2009\n",
              "1710  163268  University of Maryland-Baltimore County  ...        9171.0  2010\n",
              "1694  163268  University of Maryland-Baltimore County  ...        9467.0  2011\n",
              "1660  163268  University of Maryland-Baltimore County  ...        9764.0  2012\n",
              "1629  163268  University of Maryland-Baltimore County  ...       10068.0  2013\n",
              "1610  163268  University of Maryland-Baltimore County  ...       10384.0  2014\n",
              "1555  163268  University of Maryland-Baltimore County  ...       11006.0  2015\n",
              "1510  163268  University of Maryland-Baltimore County  ...       11264.0  2016\n",
              "1478  163268  University of Maryland-Baltimore County  ...       11518.0  2017\n",
              "1415  163268  University of Maryland-Baltimore County  ...       11778.0  2018\n",
              "\n",
              "[23 rows x 7 columns]"
            ]
          },
          "metadata": {},
          "execution_count": 66
        }
      ]
    },
    {
      "cell_type": "code",
      "metadata": {
        "colab": {
          "base_uri": "https://localhost:8080/"
        },
        "id": "_h0mkMvdHIz1",
        "outputId": "1ed340d7-b025-4b5a-e304-5f5d0d68ecb9"
      },
      "source": [
        "# Loop through the list and calculate the % change each year over the prior year\n",
        "# This takes some effort. Not hard, just some abstract/logical thinking and some experiments\n",
        "# Have fun on this one\n",
        "tuition_list_umbc=df_umbc['TUITIONFEE_IN'].tolist()\n",
        "for i in range(1,len(tuition_list_umbc)):\n",
        "  percent_chnage=((tuition_list_umbc[i]-tuition_list_umbc[i-1])/tuition_list_umbc[i-1])*100\n",
        "  print(percent_chnage)"
      ],
      "execution_count": 67,
      "outputs": [
        {
          "output_type": "stream",
          "name": "stdout",
          "text": [
            "nan\n",
            "nan\n",
            "nan\n",
            "nan\n",
            "7.650273224043716\n",
            "7.648054145516074\n",
            "16.12700408676517\n",
            "8.554412560909583\n",
            "6.234413965087282\n",
            "1.1971830985915493\n",
            "0.9974483878450475\n",
            "0.8268259072117593\n",
            "1.0478359908883828\n",
            "3.370153291253381\n",
            "3.227565151019518\n",
            "3.1372134783986483\n",
            "3.11347808275297\n",
            "3.1386571315057608\n",
            "5.989984591679507\n",
            "2.344175904052335\n",
            "2.254971590909091\n",
            "2.2573363431151243\n"
          ]
        }
      ]
    },
    {
      "cell_type": "code",
      "metadata": {
        "colab": {
          "base_uri": "https://localhost:8080/"
        },
        "id": "ikgWPrZcHnU8",
        "outputId": "1e3730d0-77d7-4f91-83bb-96acc7cf2a7d"
      },
      "source": [
        "# The resulting number has many decimal points which are unnecessary and not visually appealing.\n",
        "# Round up the percentage to two decimal points\n",
        "# You can use for loop. Or better, use list comprehension for simplicity/brevity\n",
        "pct_tuition_chnages_list=[]\n",
        "for i in range(0,len(tuition_list_umbc)):\n",
        "  percent_chnage=((tuition_list_umbc[i]-tuition_list_umbc[i-1])/tuition_list_umbc[i-1])*100\n",
        "  pct_tuition_chnages_list.append(round(percent_chnage,2))\n",
        "  print(round(percent_chnage,2))"
      ],
      "execution_count": 68,
      "outputs": [
        {
          "output_type": "stream",
          "name": "stdout",
          "text": [
            "nan\n",
            "nan\n",
            "nan\n",
            "nan\n",
            "nan\n",
            "7.65\n",
            "7.65\n",
            "16.13\n",
            "8.55\n",
            "6.23\n",
            "1.2\n",
            "1.0\n",
            "0.83\n",
            "1.05\n",
            "3.37\n",
            "3.23\n",
            "3.14\n",
            "3.11\n",
            "3.14\n",
            "5.99\n",
            "2.34\n",
            "2.25\n",
            "2.26\n"
          ]
        }
      ]
    },
    {
      "cell_type": "code",
      "metadata": {
        "colab": {
          "base_uri": "https://localhost:8080/"
        },
        "id": "TWmK7dwxH1tc",
        "outputId": "2503909f-67ee-4a2c-c559-0a57f212c43a"
      },
      "source": [
        "# Add the list of the percentages to the dataframe as a new column (\"PCT_CHANGE\")\n",
        "# Not as hard as you may think. If you get stuck, you think too hard. \n",
        "# Google it and you will find the answer.\n",
        "#(Write code here)\n",
        "df_UMBC['PCT_CHANGE']=pct_tuition_chnages_list"
      ],
      "execution_count": 69,
      "outputs": [
        {
          "output_type": "stream",
          "name": "stderr",
          "text": [
            "/usr/local/lib/python3.7/dist-packages/ipykernel_launcher.py:4: SettingWithCopyWarning: \n",
            "A value is trying to be set on a copy of a slice from a DataFrame.\n",
            "Try using .loc[row_indexer,col_indexer] = value instead\n",
            "\n",
            "See the caveats in the documentation: https://pandas.pydata.org/pandas-docs/stable/user_guide/indexing.html#returning-a-view-versus-a-copy\n",
            "  after removing the cwd from sys.path.\n"
          ]
        }
      ]
    },
    {
      "cell_type": "code",
      "metadata": {
        "colab": {
          "base_uri": "https://localhost:8080/",
          "height": 296
        },
        "id": "SHPZuXpNIls4",
        "outputId": "253d5c64-0001-4783-92be-57866f1bfd81"
      },
      "source": [
        "# Finaly, we can make the plot tuition growth rate year over year - bar first, then line chart\n",
        "\n",
        "# (write code here)\n",
        "sns.barplot(x='year',y='PCT_CHANGE', data=df_UMBC)"
      ],
      "execution_count": 71,
      "outputs": [
        {
          "output_type": "execute_result",
          "data": {
            "text/plain": [
              "<matplotlib.axes._subplots.AxesSubplot at 0x7f471e85f210>"
            ]
          },
          "metadata": {},
          "execution_count": 71
        },
        {
          "output_type": "display_data",
          "data": {
            "image/png": "[encoded data removed]",
            "text/plain": [
              "<Figure size 432x288 with 1 Axes>"
            ]
          },
          "metadata": {
            "needs_background": "light"
          }
        }
      ]
    },
    {
      "cell_type": "code",
      "metadata": {
        "id": "KmRrbvQTKm6v"
      },
      "source": [
        "# <12>\n",
        "# Since we want to do the same calculation for JHU. \n",
        "# Instead of doing it piecemeal as we did for UMBC\n",
        "# Let's create a function which can be reused for any college.\n",
        "# This function takes a list of tuitions and return a list of percentage changes year over year\n",
        "# This function can be used later \n",
        "\n",
        "#(Write code here)\n",
        "def percent_changed(tuition_change):\n",
        "    percent_change = [0]\n",
        "    for i in range(1,len(tuition_change)):\n",
        "        difference = (tuition_change[i]-tuition_change[i-1])/tuition_change[i-1]\n",
        "        percent_change.append(difference*100)\n",
        "    rounded_list = []\n",
        "    for i in percent_change:\n",
        "        rounded_list.append(round(i,2))\n",
        "    return rounded_list"
      ],
      "execution_count": 74,
      "outputs": []
    },
    {
      "cell_type": "code",
      "metadata": {
        "id": "U4yammRHKygY"
      },
      "source": [
        "# <13>\n",
        "# the dataframe contains many years of data of all U.S. colleges.\n",
        "# let's just look at JHU\n",
        "# filter/query the dataframe to retrieve only rows that belong to JHU\n",
        "# save the JHU data to a new data frame. using a new variable \n",
        "# so that the old big data frame is still available for later use.\n",
        "df_JHU = df1.query('INSTNM==\"Johns Hopkins University\"')\n",
        "df_JHU=df_JHU.sort_values(by='year')\n",
        "tuition_list_JHU=df_JHU['TUITIONFEE_IN'].tolist()"
      ],
      "execution_count": 79,
      "outputs": []
    },
    {
      "cell_type": "code",
      "metadata": {
        "colab": {
          "base_uri": "https://localhost:8080/",
          "height": 299
        },
        "id": "NswKCXqzLOG9",
        "outputId": "dae99c9c-7c72-4d8a-d785-3f8be8fb9864"
      },
      "source": [
        "# <14> \n",
        "# Plot JHU's in-state tuition overtime from 1996 to 2019. \n",
        "# Let's plot bar and line chart together\n",
        "df_JHU.plot(x=\"year\", y=[\"TUITIONFEE_IN\"], kind=\"line\")"
      ],
      "execution_count": 80,
      "outputs": [
        {
          "output_type": "execute_result",
          "data": {
            "text/plain": [
              "<matplotlib.axes._subplots.AxesSubplot at 0x7f471e3d4610>"
            ]
          },
          "metadata": {},
          "execution_count": 80
        },
        {
          "output_type": "display_data",
          "data": {
            "image/png": "[encoded data removed]",
            "text/plain": [
              "<Figure size 432x288 with 1 Axes>"
            ]
          },
          "metadata": {
            "needs_background": "light"
          }
        }
      ]
    },
    {
      "cell_type": "code",
      "metadata": {
        "colab": {
          "base_uri": "https://localhost:8080/",
          "height": 312
        },
        "id": "ryBN9RPQLcKA",
        "outputId": "281fe68e-970f-41a5-af05-5a01e816ee29"
      },
      "source": [
        "df_JHU.plot(x=\"year\", y=[\"TUITIONFEE_IN\"], kind=\"bar\")"
      ],
      "execution_count": 81,
      "outputs": [
        {
          "output_type": "execute_result",
          "data": {
            "text/plain": [
              "<matplotlib.axes._subplots.AxesSubplot at 0x7f471e8c0bd0>"
            ]
          },
          "metadata": {},
          "execution_count": 81
        },
        {
          "output_type": "display_data",
          "data": {
            "image/png": "[encoded data removed]",
            "text/plain": [
              "<Figure size 432x288 with 1 Axes>"
            ]
          },
          "metadata": {
            "needs_background": "light"
          }
        }
      ]
    },
    {
      "cell_type": "code",
      "metadata": {
        "id": "D6I_sPnTLwLC"
      },
      "source": [
        "# <15>\n",
        "# Let's calculate the JHU tuition percentge growth using the function defined earlier\n",
        "\n",
        "#(Write code here)\n",
        "tuition_change = df_JHU['TUITIONFEE_IN'].tolist()\n",
        "percent_change = percent_changed(tuition_change)"
      ],
      "execution_count": 82,
      "outputs": []
    },
    {
      "cell_type": "code",
      "metadata": {
        "id": "0D6_tgB8L2IN"
      },
      "source": [
        "# <16>\n",
        "# Add the list of percentage changes to the dataframe as a new column (\"PCT_CHANGE\")\n",
        "\n",
        "#(Write code here)\n",
        "df_JHU['PCT_CHANGE'] = percent_change"
      ],
      "execution_count": 83,
      "outputs": []
    },
    {
      "cell_type": "code",
      "metadata": {
        "colab": {
          "base_uri": "https://localhost:8080/",
          "height": 312
        },
        "id": "D3C6FuINL6QQ",
        "outputId": "1a2d8fd9-4f47-42a3-f137-2fa517fcf0e2"
      },
      "source": [
        "# <17> Make a bar plot of the JHU percentage changes tuitions over time\n",
        "\n",
        "#(Write code here)\n",
        "df_JHU.plot(x=\"year\", y=[\"PCT_CHANGE\"], kind=\"bar\")"
      ],
      "execution_count": 84,
      "outputs": [
        {
          "output_type": "execute_result",
          "data": {
            "text/plain": [
              "<matplotlib.axes._subplots.AxesSubplot at 0x7f471e340e10>"
            ]
          },
          "metadata": {},
          "execution_count": 84
        },
        {
          "output_type": "display_data",
          "data": {
            "image/png": "[encoded data removed]",
            "text/plain": [
              "<Figure size 432x288 with 1 Axes>"
            ]
          },
          "metadata": {
            "needs_background": "light"
          }
        }
      ]
    },
    {
      "cell_type": "code",
      "metadata": {
        "colab": {
          "base_uri": "https://localhost:8080/",
          "height": 864
        },
        "id": "z_XnumhDMDM8",
        "outputId": "8288df9d-29dc-41a4-d4ae-64065cfc6fe1"
      },
      "source": [
        "# <18>\n",
        "# In order to plot both UMBC and JHU tuition change over time in the same plot,\n",
        "# we need to combine the two datasets using the common key of YEAR \n",
        "# First make a umbc2 dataframe with only two columns needed. WE don't need other columns.\n",
        "# Also change the column name from \"PCT_CHANGE\" to \"UMBC_PCT\" in preparation for the merge.\n",
        "# This is because both umbc and jhu dataframe have the same column name \"PCT_CHANGE\",\n",
        "# We rename them to there is no collision during the merge. BTW, Pandas handles collision gracefully,\n",
        "# Feel free to try it without changing the column names.\n",
        "\n",
        "#(Write code here)\n",
        "umbc2 = df_UMBC[['year']]\n",
        "umbc2['UMBC_PCT'] = df_UMBC['PCT_CHANGE']\n",
        "umbc2"
      ],
      "execution_count": 85,
      "outputs": [
        {
          "output_type": "stream",
          "name": "stderr",
          "text": [
            "/usr/local/lib/python3.7/dist-packages/ipykernel_launcher.py:12: SettingWithCopyWarning: \n",
            "A value is trying to be set on a copy of a slice from a DataFrame.\n",
            "Try using .loc[row_indexer,col_indexer] = value instead\n",
            "\n",
            "See the caveats in the documentation: https://pandas.pydata.org/pandas-docs/stable/user_guide/indexing.html#returning-a-view-versus-a-copy\n",
            "  if sys.path[0] == '':\n"
          ]
        },
        {
          "output_type": "execute_result",
          "data": {
            "text/html": [
              "<div>\n",
              "<style scoped>\n",
              "    .dataframe tbody tr th:only-of-type {\n",
              "        vertical-align: middle;\n",
              "    }\n",
              "\n",
              "    .dataframe tbody tr th {\n",
              "        vertical-align: top;\n",
              "    }\n",
              "\n",
              "    .dataframe thead th {\n",
              "        text-align: right;\n",
              "    }\n",
              "</style>\n",
              "<table border=\"1\" class=\"dataframe\">\n",
              "  <thead>\n",
              "    <tr style=\"text-align: right;\">\n",
              "      <th></th>\n",
              "      <th>year</th>\n",
              "      <th>UMBC_PCT</th>\n",
              "    </tr>\n",
              "  </thead>\n",
              "  <tbody>\n",
              "    <tr>\n",
              "      <th>1660</th>\n",
              "      <td>2012</td>\n",
              "      <td>NaN</td>\n",
              "    </tr>\n",
              "    <tr>\n",
              "      <th>1694</th>\n",
              "      <td>2011</td>\n",
              "      <td>NaN</td>\n",
              "    </tr>\n",
              "    <tr>\n",
              "      <th>1926</th>\n",
              "      <td>2000</td>\n",
              "      <td>NaN</td>\n",
              "    </tr>\n",
              "    <tr>\n",
              "      <th>1415</th>\n",
              "      <td>2018</td>\n",
              "      <td>NaN</td>\n",
              "    </tr>\n",
              "    <tr>\n",
              "      <th>1955</th>\n",
              "      <td>1999</td>\n",
              "      <td>NaN</td>\n",
              "    </tr>\n",
              "    <tr>\n",
              "      <th>1819</th>\n",
              "      <td>2005</td>\n",
              "      <td>7.65</td>\n",
              "    </tr>\n",
              "    <tr>\n",
              "      <th>1799</th>\n",
              "      <td>2006</td>\n",
              "      <td>7.65</td>\n",
              "    </tr>\n",
              "    <tr>\n",
              "      <th>2049</th>\n",
              "      <td>1997</td>\n",
              "      <td>16.13</td>\n",
              "    </tr>\n",
              "    <tr>\n",
              "      <th>1915</th>\n",
              "      <td>2001</td>\n",
              "      <td>8.55</td>\n",
              "    </tr>\n",
              "    <tr>\n",
              "      <th>1830</th>\n",
              "      <td>2004</td>\n",
              "      <td>6.23</td>\n",
              "    </tr>\n",
              "    <tr>\n",
              "      <th>2151</th>\n",
              "      <td>1996</td>\n",
              "      <td>1.20</td>\n",
              "    </tr>\n",
              "    <tr>\n",
              "      <th>1610</th>\n",
              "      <td>2014</td>\n",
              "      <td>1.00</td>\n",
              "    </tr>\n",
              "    <tr>\n",
              "      <th>1982</th>\n",
              "      <td>1998</td>\n",
              "      <td>0.83</td>\n",
              "    </tr>\n",
              "    <tr>\n",
              "      <th>1555</th>\n",
              "      <td>2015</td>\n",
              "      <td>1.05</td>\n",
              "    </tr>\n",
              "    <tr>\n",
              "      <th>1893</th>\n",
              "      <td>2002</td>\n",
              "      <td>3.37</td>\n",
              "    </tr>\n",
              "    <tr>\n",
              "      <th>1779</th>\n",
              "      <td>2007</td>\n",
              "      <td>3.23</td>\n",
              "    </tr>\n",
              "    <tr>\n",
              "      <th>1710</th>\n",
              "      <td>2010</td>\n",
              "      <td>3.14</td>\n",
              "    </tr>\n",
              "    <tr>\n",
              "      <th>1510</th>\n",
              "      <td>2016</td>\n",
              "      <td>3.11</td>\n",
              "    </tr>\n",
              "    <tr>\n",
              "      <th>1478</th>\n",
              "      <td>2017</td>\n",
              "      <td>3.14</td>\n",
              "    </tr>\n",
              "    <tr>\n",
              "      <th>1629</th>\n",
              "      <td>2013</td>\n",
              "      <td>5.99</td>\n",
              "    </tr>\n",
              "    <tr>\n",
              "      <th>1767</th>\n",
              "      <td>2008</td>\n",
              "      <td>2.34</td>\n",
              "    </tr>\n",
              "    <tr>\n",
              "      <th>1745</th>\n",
              "      <td>2009</td>\n",
              "      <td>2.25</td>\n",
              "    </tr>\n",
              "    <tr>\n",
              "      <th>1873</th>\n",
              "      <td>2003</td>\n",
              "      <td>2.26</td>\n",
              "    </tr>\n",
              "  </tbody>\n",
              "</table>\n",
              "</div>"
            ],
            "text/plain": [
              "      year  UMBC_PCT\n",
              "1660  2012       NaN\n",
              "1694  2011       NaN\n",
              "1926  2000       NaN\n",
              "1415  2018       NaN\n",
              "1955  1999       NaN\n",
              "1819  2005      7.65\n",
              "1799  2006      7.65\n",
              "2049  1997     16.13\n",
              "1915  2001      8.55\n",
              "1830  2004      6.23\n",
              "2151  1996      1.20\n",
              "1610  2014      1.00\n",
              "1982  1998      0.83\n",
              "1555  2015      1.05\n",
              "1893  2002      3.37\n",
              "1779  2007      3.23\n",
              "1710  2010      3.14\n",
              "1510  2016      3.11\n",
              "1478  2017      3.14\n",
              "1629  2013      5.99\n",
              "1767  2008      2.34\n",
              "1745  2009      2.25\n",
              "1873  2003      2.26"
            ]
          },
          "metadata": {},
          "execution_count": 85
        }
      ]
    },
    {
      "cell_type": "code",
      "metadata": {
        "colab": {
          "base_uri": "https://localhost:8080/",
          "height": 864
        },
        "id": "DYy4smvLOPGM",
        "outputId": "eb4e7045-efe4-4473-c984-10086e1d4c2f"
      },
      "source": [
        "# Then make a jhu2 dataframe with only two columns needed. WE don't need other columns.\n",
        "# Also change the column name from \"PCT_CHANGE\" to \"JHU_PCT\"  in preparation for the merge\n",
        "\n",
        "#(Write code here)\n",
        "jhu2 = df_JHU[['year']]\n",
        "jhu2['JHU_PCT'] = df_JHU['PCT_CHANGE']\n",
        "jhu2"
      ],
      "execution_count": 99,
      "outputs": [
        {
          "output_type": "stream",
          "name": "stderr",
          "text": [
            "/usr/local/lib/python3.7/dist-packages/ipykernel_launcher.py:6: SettingWithCopyWarning: \n",
            "A value is trying to be set on a copy of a slice from a DataFrame.\n",
            "Try using .loc[row_indexer,col_indexer] = value instead\n",
            "\n",
            "See the caveats in the documentation: https://pandas.pydata.org/pandas-docs/stable/user_guide/indexing.html#returning-a-view-versus-a-copy\n",
            "  \n"
          ]
        },
        {
          "output_type": "execute_result",
          "data": {
            "text/html": [
              "<div>\n",
              "<style scoped>\n",
              "    .dataframe tbody tr th:only-of-type {\n",
              "        vertical-align: middle;\n",
              "    }\n",
              "\n",
              "    .dataframe tbody tr th {\n",
              "        vertical-align: top;\n",
              "    }\n",
              "\n",
              "    .dataframe thead th {\n",
              "        text-align: right;\n",
              "    }\n",
              "</style>\n",
              "<table border=\"1\" class=\"dataframe\">\n",
              "  <thead>\n",
              "    <tr style=\"text-align: right;\">\n",
              "      <th></th>\n",
              "      <th>year</th>\n",
              "      <th>JHU_PCT</th>\n",
              "    </tr>\n",
              "  </thead>\n",
              "  <tbody>\n",
              "    <tr>\n",
              "      <th>2139</th>\n",
              "      <td>1996</td>\n",
              "      <td>0.00</td>\n",
              "    </tr>\n",
              "    <tr>\n",
              "      <th>2039</th>\n",
              "      <td>1997</td>\n",
              "      <td>NaN</td>\n",
              "    </tr>\n",
              "    <tr>\n",
              "      <th>1973</th>\n",
              "      <td>1998</td>\n",
              "      <td>NaN</td>\n",
              "    </tr>\n",
              "    <tr>\n",
              "      <th>1946</th>\n",
              "      <td>1999</td>\n",
              "      <td>NaN</td>\n",
              "    </tr>\n",
              "    <tr>\n",
              "      <th>1917</th>\n",
              "      <td>2000</td>\n",
              "      <td>NaN</td>\n",
              "    </tr>\n",
              "    <tr>\n",
              "      <th>1906</th>\n",
              "      <td>2001</td>\n",
              "      <td>5.13</td>\n",
              "    </tr>\n",
              "    <tr>\n",
              "      <th>1884</th>\n",
              "      <td>2002</td>\n",
              "      <td>4.50</td>\n",
              "    </tr>\n",
              "    <tr>\n",
              "      <th>1865</th>\n",
              "      <td>2003</td>\n",
              "      <td>4.89</td>\n",
              "    </tr>\n",
              "    <tr>\n",
              "      <th>1823</th>\n",
              "      <td>2004</td>\n",
              "      <td>4.91</td>\n",
              "    </tr>\n",
              "    <tr>\n",
              "      <th>1812</th>\n",
              "      <td>2005</td>\n",
              "      <td>4.91</td>\n",
              "    </tr>\n",
              "    <tr>\n",
              "      <th>1792</th>\n",
              "      <td>2006</td>\n",
              "      <td>7.21</td>\n",
              "    </tr>\n",
              "    <tr>\n",
              "      <th>1772</th>\n",
              "      <td>2007</td>\n",
              "      <td>5.90</td>\n",
              "    </tr>\n",
              "    <tr>\n",
              "      <th>1760</th>\n",
              "      <td>2008</td>\n",
              "      <td>5.01</td>\n",
              "    </tr>\n",
              "    <tr>\n",
              "      <th>1738</th>\n",
              "      <td>2009</td>\n",
              "      <td>3.85</td>\n",
              "    </tr>\n",
              "    <tr>\n",
              "      <th>1703</th>\n",
              "      <td>2010</td>\n",
              "      <td>3.91</td>\n",
              "    </tr>\n",
              "    <tr>\n",
              "      <th>1687</th>\n",
              "      <td>2011</td>\n",
              "      <td>3.93</td>\n",
              "    </tr>\n",
              "    <tr>\n",
              "      <th>1653</th>\n",
              "      <td>2012</td>\n",
              "      <td>2.63</td>\n",
              "    </tr>\n",
              "    <tr>\n",
              "      <th>1622</th>\n",
              "      <td>2013</td>\n",
              "      <td>4.79</td>\n",
              "    </tr>\n",
              "    <tr>\n",
              "      <th>1603</th>\n",
              "      <td>2014</td>\n",
              "      <td>3.50</td>\n",
              "    </tr>\n",
              "    <tr>\n",
              "      <th>1548</th>\n",
              "      <td>2015</td>\n",
              "      <td>3.51</td>\n",
              "    </tr>\n",
              "    <tr>\n",
              "      <th>1503</th>\n",
              "      <td>2016</td>\n",
              "      <td>3.49</td>\n",
              "    </tr>\n",
              "    <tr>\n",
              "      <th>1473</th>\n",
              "      <td>2017</td>\n",
              "      <td>3.49</td>\n",
              "    </tr>\n",
              "    <tr>\n",
              "      <th>1410</th>\n",
              "      <td>2018</td>\n",
              "      <td>3.01</td>\n",
              "    </tr>\n",
              "  </tbody>\n",
              "</table>\n",
              "</div>"
            ],
            "text/plain": [
              "      year  JHU_PCT\n",
              "2139  1996     0.00\n",
              "2039  1997      NaN\n",
              "1973  1998      NaN\n",
              "1946  1999      NaN\n",
              "1917  2000      NaN\n",
              "1906  2001     5.13\n",
              "1884  2002     4.50\n",
              "1865  2003     4.89\n",
              "1823  2004     4.91\n",
              "1812  2005     4.91\n",
              "1792  2006     7.21\n",
              "1772  2007     5.90\n",
              "1760  2008     5.01\n",
              "1738  2009     3.85\n",
              "1703  2010     3.91\n",
              "1687  2011     3.93\n",
              "1653  2012     2.63\n",
              "1622  2013     4.79\n",
              "1603  2014     3.50\n",
              "1548  2015     3.51\n",
              "1503  2016     3.49\n",
              "1473  2017     3.49\n",
              "1410  2018     3.01"
            ]
          },
          "metadata": {},
          "execution_count": 99
        }
      ]
    },
    {
      "cell_type": "code",
      "metadata": {
        "id": "UrfbewMgMJZr"
      },
      "source": [
        "# Now, merger the two data frames\n",
        "# and display the new dataframe\n",
        "\n",
        "#(Write code here)\n",
        "\n",
        "merge = [umbc2, jhu2]\n",
        "final = pd.concat(merge)\n",
        "df_merge=final"
      ],
      "execution_count": 102,
      "outputs": []
    },
    {
      "cell_type": "code",
      "metadata": {
        "colab": {
          "base_uri": "https://localhost:8080/",
          "height": 698
        },
        "id": "6U9Is78-NIph",
        "outputId": "dc805db2-5362-41d2-bf58-6c2da71669b0"
      },
      "source": [
        "# Plot UMBC and JHU separately on the same plot \n",
        "# However, this does not work since the bars overlap.\n",
        "\n",
        "#(Write code here)\n",
        "df_merge.plot.bar(x = 'year', y = ['UMBC_PCT'], figsize = (10, 5))\n",
        "df_merge.plot.bar(x = 'year', y = ['JHU_PCT'], figsize = (10, 5))"
      ],
      "execution_count": 103,
      "outputs": [
        {
          "output_type": "execute_result",
          "data": {
            "text/plain": [
              "<matplotlib.axes._subplots.AxesSubplot at 0x7f471dc70fd0>"
            ]
          },
          "metadata": {},
          "execution_count": 103
        },
        {
          "output_type": "display_data",
          "data": {
            "image/png": "[encoded data removed]",
            "text/plain": [
              "<Figure size 720x360 with 1 Axes>"
            ]
          },
          "metadata": {
            "needs_background": "light"
          }
        },
        {
          "output_type": "display_data",
          "data": {
            "image/png": "[encoded data removed]",
            "text/plain": [
              "<Figure size 720x360 with 1 Axes>"
            ]
          },
          "metadata": {
            "needs_background": "light"
          }
        }
      ]
    },
    {
      "cell_type": "code",
      "metadata": {
        "colab": {
          "base_uri": "https://localhost:8080/",
          "height": 366
        },
        "id": "WDcgBlf8Oiy-",
        "outputId": "f7790e44-efaa-4045-835a-9ff7a1c14454"
      },
      "source": [
        "# Plot them together using y=[\"UMBC_PCT\",\"JHU_PCT\"] option of bar plot\n",
        "\n",
        "#(Write code here)\n",
        "\n",
        "df_merge.plot.bar(x = 'year', y = ['UMBC_PCT', 'JHU_PCT'], figsize = (10, 5))"
      ],
      "execution_count": 104,
      "outputs": [
        {
          "output_type": "execute_result",
          "data": {
            "text/plain": [
              "<matplotlib.axes._subplots.AxesSubplot at 0x7f471dd6eb50>"
            ]
          },
          "metadata": {},
          "execution_count": 104
        },
        {
          "output_type": "display_data",
          "data": {
            "image/png": "[encoded data removed]",
            "text/plain": [
              "<Figure size 720x360 with 1 Axes>"
            ]
          },
          "metadata": {
            "needs_background": "light"
          }
        }
      ]
    },
    {
      "cell_type": "code",
      "metadata": {
        "colab": {
          "base_uri": "https://localhost:8080/",
          "height": 351
        },
        "id": "43ZtBoONOtr-",
        "outputId": "23bf1c68-ea73-4954-c1c6-d102dd0b71c9"
      },
      "source": [
        "df_merge.plot.line(x = 'year', y = ['UMBC_PCT', 'JHU_PCT'], figsize = (10, 5))"
      ],
      "execution_count": 106,
      "outputs": [
        {
          "output_type": "execute_result",
          "data": {
            "text/plain": [
              "<matplotlib.axes._subplots.AxesSubplot at 0x7f471de4c650>"
            ]
          },
          "metadata": {},
          "execution_count": 106
        },
        {
          "output_type": "display_data",
          "data": {
            "image/png": "[encoded data removed]",
            "text/plain": [
              "<Figure size 720x360 with 1 Axes>"
            ]
          },
          "metadata": {
            "needs_background": "light"
          }
        }
      ]
    },
    {
      "cell_type": "code",
      "metadata": {
        "id": "GdqsyCUNOyXE"
      },
      "source": [
        "# <19> \n",
        "# document your observation/conclusion of the comparison plots (bar/line)\n",
        "# use the following Markdown cell"
      ],
      "execution_count": null,
      "outputs": []
    },
    {
      "cell_type": "markdown",
      "metadata": {
        "id": "473iRfRtO1b1"
      },
      "source": [
        "# Based on the plots, it can be observed that there has been a drastic change in the tution fees of the students in UMBC over the years.\n",
        "# On the other hand, JHU hasn't shown that much of a drastic change in the tution fees but there is noticeable amount of increase and decrease in the fees overs the years."
      ]
    }
  ]
}