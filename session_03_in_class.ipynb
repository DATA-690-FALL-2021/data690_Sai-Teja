{
  "nbformat": 4,
  "nbformat_minor": 0,
  "metadata": {
    "colab": {
      "name": "session_03_in_class.ipynb",
      "provenance": [],
      "authorship_tag": "ABX9TyNir0bEGuse5rb/zxfPqEqN",
      "include_colab_link": true
    },
    "kernelspec": {
      "name": "python3",
      "display_name": "Python 3"
    },
    "language_info": {
      "name": "python"
    }
  },
  "cells": [
    {
      "cell_type": "markdown",
      "metadata": {
        "id": "view-in-github",
        "colab_type": "text"
      },
      "source": [
        "<a href=\"https://colab.research.google.com/github/asaitej1/data690_Sai-Teja/blob/main/session_03_in_class.ipynb\" target=\"_parent\"><img src=\"https://colab.research.google.com/assets/colab-badge.svg\" alt=\"Open In Colab\"/></a>"
      ]
    },
    {
      "cell_type": "markdown",
      "metadata": {
        "id": "7iYd_YR08Tvu"
      },
      "source": [
        "# Session 3 in class practice\n",
        "- Sai Teja\n",
        "- 09/16/2021"
      ]
    },
    {
      "cell_type": "markdown",
      "metadata": {
        "id": "0qX84Lmn86Od"
      },
      "source": [
        "## 1.List Comprehension"
      ]
    },
    {
      "cell_type": "code",
      "metadata": {
        "colab": {
          "base_uri": "https://localhost:8080/"
        },
        "id": "ME8l6_021IjL",
        "outputId": "2de5afdb-b7a6-49f1-8d27-8203d303c462"
      },
      "source": [
        "# This is traditional way to use for loop\n",
        "x = [2,4,6,8,10]\n",
        "\n",
        "y = []\n",
        "\n",
        "for i in x:\n",
        "  new_number = i+10\n",
        "  y.append(new_number)\n",
        "\n",
        "print(y)  \n"
      ],
      "execution_count": 2,
      "outputs": [
        {
          "output_type": "stream",
          "name": "stdout",
          "text": [
            "[12, 14, 16, 18, 20]\n"
          ]
        }
      ]
    },
    {
      "cell_type": "code",
      "metadata": {
        "colab": {
          "base_uri": "https://localhost:8080/"
        },
        "id": "ZARFznoT-fzI",
        "outputId": "8b298eca-e8e9-4b45-e6cf-4d44547ef23a"
      },
      "source": [
        "# New way of using List Comprehension\n",
        "\n",
        "y = [i +10 for i in x]\n",
        "\n",
        "print(y)"
      ],
      "execution_count": 3,
      "outputs": [
        {
          "output_type": "stream",
          "name": "stdout",
          "text": [
            "[12, 14, 16, 18, 20]\n"
          ]
        }
      ]
    },
    {
      "cell_type": "markdown",
      "metadata": {
        "id": "5J17Q16--1Vi"
      },
      "source": [
        "## 2.User-defined Function"
      ]
    },
    {
      "cell_type": "code",
      "metadata": {
        "id": "6Z7yWvf8_M4k"
      },
      "source": [
        "def addition(a, b):\n",
        "  return a + b"
      ],
      "execution_count": 6,
      "outputs": []
    },
    {
      "cell_type": "code",
      "metadata": {
        "colab": {
          "base_uri": "https://localhost:8080/"
        },
        "id": "UrzpS4sp_ukr",
        "outputId": "c448a998-7898-4ea4-9370-bd7a4a8f8196"
      },
      "source": [
        "y = addition(5,16)\n",
        "print(y)"
      ],
      "execution_count": 8,
      "outputs": [
        {
          "output_type": "stream",
          "name": "stdout",
          "text": [
            "21\n"
          ]
        }
      ]
    },
    {
      "cell_type": "code",
      "metadata": {
        "id": "RLwHYc_N_6YC"
      },
      "source": [
        "def division(a, b):\n",
        "  return a / b"
      ],
      "execution_count": 12,
      "outputs": []
    },
    {
      "cell_type": "code",
      "metadata": {
        "colab": {
          "base_uri": "https://localhost:8080/"
        },
        "id": "k_e2elArAI0d",
        "outputId": "3a3ce15d-c496-4459-847e-5be914688482"
      },
      "source": [
        "y = division(25,5)\n",
        "print(y)"
      ],
      "execution_count": 14,
      "outputs": [
        {
          "output_type": "stream",
          "name": "stdout",
          "text": [
            "5.0\n"
          ]
        }
      ]
    }
  ]
}