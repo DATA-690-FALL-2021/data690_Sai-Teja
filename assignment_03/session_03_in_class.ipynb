{
  "nbformat": 4,
  "nbformat_minor": 0,
  "metadata": {
    "colab": {
      "name": "session_03_in_class.ipynb",
      "provenance": [],
      "authorship_tag": "ABX9TyONhbqGFuSoWg+MSARWJehN",
      "include_colab_link": true
    },
    "kernelspec": {
      "name": "python3",
      "display_name": "Python 3"
    },
    "language_info": {
      "name": "python"
    }
  },
  "cells": [
    {
      "cell_type": "markdown",
      "metadata": {
        "id": "view-in-github",
        "colab_type": "text"
      },
      "source": [
        "<a href=\"https://colab.research.google.com/github/asaitej1/data690_Sai-Teja/blob/main/assignment_03/session_03_in_class.ipynb\" target=\"_parent\"><img src=\"https://colab.research.google.com/assets/colab-badge.svg\" alt=\"Open In Colab\"/></a>"
      ]
    },
    {
      "cell_type": "markdown",
      "metadata": {
        "id": "7iYd_YR08Tvu"
      },
      "source": [
        "# Session 3 in class practice\n",
        "- Sai Teja\n",
        "- 09/16/2021"
      ]
    },
    {
      "cell_type": "markdown",
      "metadata": {
        "id": "0qX84Lmn86Od"
      },
      "source": [
        "## 1.List Comprehension"
      ]
    },
    {
      "cell_type": "code",
      "metadata": {
        "colab": {
          "base_uri": "https://localhost:8080/"
        },
        "id": "ME8l6_021IjL",
        "outputId": "2de5afdb-b7a6-49f1-8d27-8203d303c462"
      },
      "source": [
        "# This is traditional way to use for loop\n",
        "x = [2,4,6,8,10]\n",
        "\n",
        "y = []\n",
        "\n",
        "for i in x:\n",
        "  new_number = i+10\n",
        "  y.append(new_number)\n",
        "\n",
        "print(y)  \n"
      ],
      "execution_count": 2,
      "outputs": [
        {
          "output_type": "stream",
          "name": "stdout",
          "text": [
            "[12, 14, 16, 18, 20]\n"
          ]
        }
      ]
    },
    {
      "cell_type": "code",
      "metadata": {
        "colab": {
          "base_uri": "https://localhost:8080/"
        },
        "id": "ZARFznoT-fzI",
        "outputId": "8b298eca-e8e9-4b45-e6cf-4d44547ef23a"
      },
      "source": [
        "# New way of using List Comprehension\n",
        "\n",
        "y = [i +10 for i in x]\n",
        "\n",
        "print(y)"
      ],
      "execution_count": 3,
      "outputs": [
        {
          "output_type": "stream",
          "name": "stdout",
          "text": [
            "[12, 14, 16, 18, 20]\n"
          ]
        }
      ]
    },
    {
      "cell_type": "markdown",
      "metadata": {
        "id": "5J17Q16--1Vi"
      },
      "source": [
        "## 2.User-defined Function"
      ]
    },
    {
      "cell_type": "code",
      "metadata": {
        "id": "6Z7yWvf8_M4k"
      },
      "source": [
        "def addition(a, b):\n",
        "  return a + b"
      ],
      "execution_count": 6,
      "outputs": []
    },
    {
      "cell_type": "code",
      "metadata": {
        "colab": {
          "base_uri": "https://localhost:8080/"
        },
        "id": "UrzpS4sp_ukr",
        "outputId": "c448a998-7898-4ea4-9370-bd7a4a8f8196"
      },
      "source": [
        "y = addition(5,16)\n",
        "print(y)"
      ],
      "execution_count": 8,
      "outputs": [
        {
          "output_type": "stream",
          "name": "stdout",
          "text": [
            "21\n"
          ]
        }
      ]
    },
    {
      "cell_type": "code",
      "metadata": {
        "id": "RLwHYc_N_6YC"
      },
      "source": [
        "def division(a, b):\n",
        "  return a / b"
      ],
      "execution_count": 12,
      "outputs": []
    },
    {
      "cell_type": "code",
      "metadata": {
        "colab": {
          "base_uri": "https://localhost:8080/"
        },
        "id": "k_e2elArAI0d",
        "outputId": "3a3ce15d-c496-4459-847e-5be914688482"
      },
      "source": [
        "y = division(25,5)\n",
        "print(y)"
      ],
      "execution_count": 14,
      "outputs": [
        {
          "output_type": "stream",
          "name": "stdout",
          "text": [
            "5.0\n"
          ]
        }
      ]
    },
    {
      "cell_type": "markdown",
      "metadata": {
        "id": "8GPGRolqCaDz"
      },
      "source": [
        "## 3.Data Wrangling"
      ]
    },
    {
      "cell_type": "code",
      "metadata": {
        "id": "wY3bbRaGEE95"
      },
      "source": [
        ""
      ],
      "execution_count": null,
      "outputs": []
    },
    {
      "cell_type": "code",
      "metadata": {
        "colab": {
          "base_uri": "https://localhost:8080/"
        },
        "id": "KkrcZ1QCDMfL",
        "outputId": "16b825b7-f64f-43ed-b4a4-36fc06ef67cc"
      },
      "source": [
        "header_string = \"\"\"\n",
        "    age: continuous.\n",
        "    workclass: Private, Self-emp-not-inc, Self-emp-inc, Federal-gov, Local-gov, State-gov, Without-pay, Never-worked.\n",
        "    fnlwgt: continuous.\n",
        "    education: Bachelors, Some-college, 11th, HS-grad, Prof-school, Assoc-acdm, Assoc-voc, 9th, 7th-8th, 12th, Masters, 1st-4th, 10th, Doctorate, 5th-6th, Preschool.\n",
        "    education-num: continuous.\n",
        "    marital-status: Married-civ-spouse, Divorced, Never-married, Separated, Widowed, Married-spouse-absent, Married-AF-spouse.\n",
        "    occupation: Tech-support, Craft-repair, Other-service, Sales, Exec-managerial, Prof-specialty, Handlers-cleaners, Machine-op-inspct, Adm-clerical, Farming-fishing, Transport-moving, Priv-house-serv, Protective-serv, Armed-Forces.\n",
        "    relationship: Wife, Own-child, Husband, Not-in-family, Other-relative, Unmarried.\n",
        "    race: White, Asian-Pac-Islander, Amer-Indian-Eskimo, Other, Black.\n",
        "    sex: Female, Male.\n",
        "    capital-gain: continuous.\n",
        "    capital-loss: continuous.\n",
        "    hours-per-week: continuous.\n",
        "    native-country: United-States, Cambodia, England, Puerto-Rico, Canada, Germany, Outlying-US(Guam-USVI-etc), India, Japan, Greece, South, China, Cuba, Iran, Honduras, Philippines, Italy, Poland, Jamaica, Vietnam, Mexico, Portugal, Ireland, France, Dominican-Republic, Laos, Ecuador, Taiwan, Haiti, Columbia, Hungary, Guatemala, Nicaragua, Scotland, Thailand, Yugoslavia, El-Salvador, Trinadad&Tobago, Peru, Hong, Holand-Netherlands.\n",
        "  \"\"\"\n",
        "\n",
        "type(header_string)\n",
        "\n"
      ],
      "execution_count": 21,
      "outputs": [
        {
          "output_type": "execute_result",
          "data": {
            "text/plain": [
              "str"
            ]
          },
          "metadata": {},
          "execution_count": 21
        }
      ]
    },
    {
      "cell_type": "code",
      "metadata": {
        "colab": {
          "base_uri": "https://localhost:8080/"
        },
        "id": "PikBnpBpEtSA",
        "outputId": "5efc3a35-1514-4061-999e-feedb2786041"
      },
      "source": [
        "len(header_string)"
      ],
      "execution_count": 22,
      "outputs": [
        {
          "output_type": "execute_result",
          "data": {
            "text/plain": [
              "1432"
            ]
          },
          "metadata": {},
          "execution_count": 22
        }
      ]
    },
    {
      "cell_type": "code",
      "metadata": {
        "colab": {
          "base_uri": "https://localhost:8080/"
        },
        "id": "88QADwV0FQAF",
        "outputId": "aa05af92-8747-431b-fab4-fd649f354815"
      },
      "source": [
        "header_list = header_string.split(\"\\n\")\n",
        "print(header_list)"
      ],
      "execution_count": 23,
      "outputs": [
        {
          "output_type": "stream",
          "name": "stdout",
          "text": [
            "['', '    age: continuous.', '    workclass: Private, Self-emp-not-inc, Self-emp-inc, Federal-gov, Local-gov, State-gov, Without-pay, Never-worked.', '    fnlwgt: continuous.', '    education: Bachelors, Some-college, 11th, HS-grad, Prof-school, Assoc-acdm, Assoc-voc, 9th, 7th-8th, 12th, Masters, 1st-4th, 10th, Doctorate, 5th-6th, Preschool.', '    education-num: continuous.', '    marital-status: Married-civ-spouse, Divorced, Never-married, Separated, Widowed, Married-spouse-absent, Married-AF-spouse.', '    occupation: Tech-support, Craft-repair, Other-service, Sales, Exec-managerial, Prof-specialty, Handlers-cleaners, Machine-op-inspct, Adm-clerical, Farming-fishing, Transport-moving, Priv-house-serv, Protective-serv, Armed-Forces.', '    relationship: Wife, Own-child, Husband, Not-in-family, Other-relative, Unmarried.', '    race: White, Asian-Pac-Islander, Amer-Indian-Eskimo, Other, Black.', '    sex: Female, Male.', '    capital-gain: continuous.', '    capital-loss: continuous.', '    hours-per-week: continuous.', '    native-country: United-States, Cambodia, England, Puerto-Rico, Canada, Germany, Outlying-US(Guam-USVI-etc), India, Japan, Greece, South, China, Cuba, Iran, Honduras, Philippines, Italy, Poland, Jamaica, Vietnam, Mexico, Portugal, Ireland, France, Dominican-Republic, Laos, Ecuador, Taiwan, Haiti, Columbia, Hungary, Guatemala, Nicaragua, Scotland, Thailand, Yugoslavia, El-Salvador, Trinadad&Tobago, Peru, Hong, Holand-Netherlands.', '  ']\n"
          ]
        }
      ]
    },
    {
      "cell_type": "code",
      "metadata": {
        "colab": {
          "base_uri": "https://localhost:8080/"
        },
        "id": "vp1OFxrhFe87",
        "outputId": "d775b31c-5d72-4157-83ca-9ed76a636424"
      },
      "source": [
        "len(header_list)"
      ],
      "execution_count": 24,
      "outputs": [
        {
          "output_type": "execute_result",
          "data": {
            "text/plain": [
              "16"
            ]
          },
          "metadata": {},
          "execution_count": 24
        }
      ]
    },
    {
      "cell_type": "code",
      "metadata": {
        "colab": {
          "base_uri": "https://localhost:8080/",
          "height": 35
        },
        "id": "Xmd9EMQ_FwZL",
        "outputId": "fa261cb1-de61-4c3f-f81c-895dbebef960"
      },
      "source": [
        "header_list[0]"
      ],
      "execution_count": 25,
      "outputs": [
        {
          "output_type": "execute_result",
          "data": {
            "application/vnd.google.colaboratory.intrinsic+json": {
              "type": "string"
            },
            "text/plain": [
              "''"
            ]
          },
          "metadata": {},
          "execution_count": 25
        }
      ]
    },
    {
      "cell_type": "code",
      "metadata": {
        "colab": {
          "base_uri": "https://localhost:8080/",
          "height": 35
        },
        "id": "cfwxUTC3F2nt",
        "outputId": "566ab1e0-e9c3-4f8f-938b-69a1ef5868f1"
      },
      "source": [
        "header_list[3]"
      ],
      "execution_count": 26,
      "outputs": [
        {
          "output_type": "execute_result",
          "data": {
            "application/vnd.google.colaboratory.intrinsic+json": {
              "type": "string"
            },
            "text/plain": [
              "'    fnlwgt: continuous.'"
            ]
          },
          "metadata": {},
          "execution_count": 26
        }
      ]
    },
    {
      "cell_type": "code",
      "metadata": {
        "colab": {
          "base_uri": "https://localhost:8080/",
          "height": 35
        },
        "id": "WC0OgfVvF7Z-",
        "outputId": "58f059d5-79fb-4d2c-c8d8-71f43ffbb91f"
      },
      "source": [
        "header_list[15]"
      ],
      "execution_count": 27,
      "outputs": [
        {
          "output_type": "execute_result",
          "data": {
            "application/vnd.google.colaboratory.intrinsic+json": {
              "type": "string"
            },
            "text/plain": [
              "'  '"
            ]
          },
          "metadata": {},
          "execution_count": 27
        }
      ]
    },
    {
      "cell_type": "code",
      "metadata": {
        "colab": {
          "base_uri": "https://localhost:8080/"
        },
        "id": "lldr8O91GRwl",
        "outputId": "c2b51fe8-ea1b-4a05-e7c3-4bf8b8dc3337"
      },
      "source": [
        "header_list2 = header_list[1:15]\n",
        "header_list2"
      ],
      "execution_count": 28,
      "outputs": [
        {
          "output_type": "execute_result",
          "data": {
            "text/plain": [
              "['    age: continuous.',\n",
              " '    workclass: Private, Self-emp-not-inc, Self-emp-inc, Federal-gov, Local-gov, State-gov, Without-pay, Never-worked.',\n",
              " '    fnlwgt: continuous.',\n",
              " '    education: Bachelors, Some-college, 11th, HS-grad, Prof-school, Assoc-acdm, Assoc-voc, 9th, 7th-8th, 12th, Masters, 1st-4th, 10th, Doctorate, 5th-6th, Preschool.',\n",
              " '    education-num: continuous.',\n",
              " '    marital-status: Married-civ-spouse, Divorced, Never-married, Separated, Widowed, Married-spouse-absent, Married-AF-spouse.',\n",
              " '    occupation: Tech-support, Craft-repair, Other-service, Sales, Exec-managerial, Prof-specialty, Handlers-cleaners, Machine-op-inspct, Adm-clerical, Farming-fishing, Transport-moving, Priv-house-serv, Protective-serv, Armed-Forces.',\n",
              " '    relationship: Wife, Own-child, Husband, Not-in-family, Other-relative, Unmarried.',\n",
              " '    race: White, Asian-Pac-Islander, Amer-Indian-Eskimo, Other, Black.',\n",
              " '    sex: Female, Male.',\n",
              " '    capital-gain: continuous.',\n",
              " '    capital-loss: continuous.',\n",
              " '    hours-per-week: continuous.',\n",
              " '    native-country: United-States, Cambodia, England, Puerto-Rico, Canada, Germany, Outlying-US(Guam-USVI-etc), India, Japan, Greece, South, China, Cuba, Iran, Honduras, Philippines, Italy, Poland, Jamaica, Vietnam, Mexico, Portugal, Ireland, France, Dominican-Republic, Laos, Ecuador, Taiwan, Haiti, Columbia, Hungary, Guatemala, Nicaragua, Scotland, Thailand, Yugoslavia, El-Salvador, Trinadad&Tobago, Peru, Hong, Holand-Netherlands.']"
            ]
          },
          "metadata": {},
          "execution_count": 28
        }
      ]
    },
    {
      "cell_type": "code",
      "metadata": {
        "colab": {
          "base_uri": "https://localhost:8080/"
        },
        "id": "j9lHgDTuGnrz",
        "outputId": "75cb82f9-469b-4ab0-abd8-ec181b714b71"
      },
      "source": [
        "header_list3 = []\n",
        "\n",
        "for item in header_list2:\n",
        "  header_info = item.split(\":\")\n",
        "  print(header_info[0])\n",
        "  header_list3.append(header_info[0])\n",
        "print(header_list3)"
      ],
      "execution_count": 31,
      "outputs": [
        {
          "output_type": "stream",
          "name": "stdout",
          "text": [
            "    age\n",
            "    workclass\n",
            "    fnlwgt\n",
            "    education\n",
            "    education-num\n",
            "    marital-status\n",
            "    occupation\n",
            "    relationship\n",
            "    race\n",
            "    sex\n",
            "    capital-gain\n",
            "    capital-loss\n",
            "    hours-per-week\n",
            "    native-country\n",
            "['    age', '    workclass', '    fnlwgt', '    education', '    education-num', '    marital-status', '    occupation', '    relationship', '    race', '    sex', '    capital-gain', '    capital-loss', '    hours-per-week', '    native-country']\n"
          ]
        }
      ]
    },
    {
      "cell_type": "markdown",
      "metadata": {
        "id": "AoIKddhiLimg"
      },
      "source": [
        "## 4.Python Dictonary"
      ]
    },
    {
      "cell_type": "code",
      "metadata": {
        "colab": {
          "base_uri": "https://localhost:8080/"
        },
        "id": "KJilo59tLqEY",
        "outputId": "adec3599-1f3e-4775-f9d3-c93a4807204c"
      },
      "source": [
        "x = {\"age\":90}\n",
        "y = {\"age\":90, \"Last_Name\":\"koushik\", \"Gender\":\"male\"}\n",
        "\n",
        "print(x,y)"
      ],
      "execution_count": 32,
      "outputs": [
        {
          "output_type": "stream",
          "name": "stdout",
          "text": [
            "{'age': 90} {'age': 90, 'Last_Name': 'koushik', 'Gender': 'male'}\n"
          ]
        }
      ]
    },
    {
      "cell_type": "code",
      "metadata": {
        "colab": {
          "base_uri": "https://localhost:8080/"
        },
        "id": "gsSsmuGuMTWr",
        "outputId": "f336eb75-299e-45b9-f1a8-e050e7bec99c"
      },
      "source": [
        "y[\"age\"]"
      ],
      "execution_count": 33,
      "outputs": [
        {
          "output_type": "execute_result",
          "data": {
            "text/plain": [
              "90"
            ]
          },
          "metadata": {},
          "execution_count": 33
        }
      ]
    },
    {
      "cell_type": "code",
      "metadata": {
        "colab": {
          "base_uri": "https://localhost:8080/",
          "height": 35
        },
        "id": "MKoBBUaNMbWu",
        "outputId": "f3db42ea-dc0e-4efd-828a-84aeb3423ada"
      },
      "source": [
        "y[\"Gender\"]"
      ],
      "execution_count": 35,
      "outputs": [
        {
          "output_type": "execute_result",
          "data": {
            "application/vnd.google.colaboratory.intrinsic+json": {
              "type": "string"
            },
            "text/plain": [
              "'male'"
            ]
          },
          "metadata": {},
          "execution_count": 35
        }
      ]
    },
    {
      "cell_type": "code",
      "metadata": {
        "colab": {
          "base_uri": "https://localhost:8080/"
        },
        "id": "ziwSd_xTM3jc",
        "outputId": "9cfce1b4-69b3-4698-8a81-13ce81d6a86a"
      },
      "source": [
        "header_list2"
      ],
      "execution_count": 36,
      "outputs": [
        {
          "output_type": "execute_result",
          "data": {
            "text/plain": [
              "['    age: continuous.',\n",
              " '    workclass: Private, Self-emp-not-inc, Self-emp-inc, Federal-gov, Local-gov, State-gov, Without-pay, Never-worked.',\n",
              " '    fnlwgt: continuous.',\n",
              " '    education: Bachelors, Some-college, 11th, HS-grad, Prof-school, Assoc-acdm, Assoc-voc, 9th, 7th-8th, 12th, Masters, 1st-4th, 10th, Doctorate, 5th-6th, Preschool.',\n",
              " '    education-num: continuous.',\n",
              " '    marital-status: Married-civ-spouse, Divorced, Never-married, Separated, Widowed, Married-spouse-absent, Married-AF-spouse.',\n",
              " '    occupation: Tech-support, Craft-repair, Other-service, Sales, Exec-managerial, Prof-specialty, Handlers-cleaners, Machine-op-inspct, Adm-clerical, Farming-fishing, Transport-moving, Priv-house-serv, Protective-serv, Armed-Forces.',\n",
              " '    relationship: Wife, Own-child, Husband, Not-in-family, Other-relative, Unmarried.',\n",
              " '    race: White, Asian-Pac-Islander, Amer-Indian-Eskimo, Other, Black.',\n",
              " '    sex: Female, Male.',\n",
              " '    capital-gain: continuous.',\n",
              " '    capital-loss: continuous.',\n",
              " '    hours-per-week: continuous.',\n",
              " '    native-country: United-States, Cambodia, England, Puerto-Rico, Canada, Germany, Outlying-US(Guam-USVI-etc), India, Japan, Greece, South, China, Cuba, Iran, Honduras, Philippines, Italy, Poland, Jamaica, Vietnam, Mexico, Portugal, Ireland, France, Dominican-Republic, Laos, Ecuador, Taiwan, Haiti, Columbia, Hungary, Guatemala, Nicaragua, Scotland, Thailand, Yugoslavia, El-Salvador, Trinadad&Tobago, Peru, Hong, Holand-Netherlands.']"
            ]
          },
          "metadata": {},
          "execution_count": 36
        }
      ]
    },
    {
      "cell_type": "code",
      "metadata": {
        "colab": {
          "base_uri": "https://localhost:8080/"
        },
        "id": "l0Od__JAM-Tc",
        "outputId": "369b4af2-6b3e-4286-f9c0-6dc66b7a0d64"
      },
      "source": [
        "a = {}\n",
        "type(a)"
      ],
      "execution_count": 37,
      "outputs": [
        {
          "output_type": "execute_result",
          "data": {
            "text/plain": [
              "dict"
            ]
          },
          "metadata": {},
          "execution_count": 37
        }
      ]
    },
    {
      "cell_type": "code",
      "metadata": {
        "colab": {
          "base_uri": "https://localhost:8080/"
        },
        "id": "m0BNEncqNJID",
        "outputId": "1f9970cb-58a2-4216-fdb3-c9e0d11a3ab4"
      },
      "source": [
        "# tuple\n",
        "c = (\"age\", 70)\n",
        "print(c)"
      ],
      "execution_count": 38,
      "outputs": [
        {
          "output_type": "stream",
          "name": "stdout",
          "text": [
            "('age', 70)\n"
          ]
        }
      ]
    },
    {
      "cell_type": "code",
      "metadata": {
        "colab": {
          "base_uri": "https://localhost:8080/"
        },
        "id": "5-OIf0b3OHwg",
        "outputId": "f3df7773-8f8c-456e-9e27-fbcf3992985a"
      },
      "source": [
        "a = dict([(\"age\", 70)])\n",
        "print(a)"
      ],
      "execution_count": 39,
      "outputs": [
        {
          "output_type": "stream",
          "name": "stdout",
          "text": [
            "{'age': 70}\n"
          ]
        }
      ]
    },
    {
      "cell_type": "code",
      "metadata": {
        "colab": {
          "base_uri": "https://localhost:8080/"
        },
        "id": "LwCXyVuYOUx7",
        "outputId": "eade15e7-be65-46b2-9274-9f7ae1a1076e"
      },
      "source": [
        "a = dict([(\"age\", 70), (\"Last_Name\", \"swapan\"), (\"Gender\", \"male\")])\n",
        "print(a)"
      ],
      "execution_count": 40,
      "outputs": [
        {
          "output_type": "stream",
          "name": "stdout",
          "text": [
            "{'age': 70, 'Last_Name': 'swapan', 'Gender': 'male'}\n"
          ]
        }
      ]
    },
    {
      "cell_type": "code",
      "metadata": {
        "colab": {
          "base_uri": "https://localhost:8080/"
        },
        "id": "N58xy4CeO0QD",
        "outputId": "494bce8c-f32f-418f-9601-8c29b6d70d15"
      },
      "source": [
        "tuple_list =[]\n",
        "\n",
        "for item in header_list2:\n",
        "  header_info = item.split(\":\")\n",
        "  header_tuple = (header_info[0].strip(), header_info[1])\n",
        "  tuple_list.append(header_tuple)\n",
        "\n",
        "print(tuple_list)\n"
      ],
      "execution_count": 44,
      "outputs": [
        {
          "output_type": "stream",
          "name": "stdout",
          "text": [
            "[('age', ' continuous.'), ('workclass', ' Private, Self-emp-not-inc, Self-emp-inc, Federal-gov, Local-gov, State-gov, Without-pay, Never-worked.'), ('fnlwgt', ' continuous.'), ('education', ' Bachelors, Some-college, 11th, HS-grad, Prof-school, Assoc-acdm, Assoc-voc, 9th, 7th-8th, 12th, Masters, 1st-4th, 10th, Doctorate, 5th-6th, Preschool.'), ('education-num', ' continuous.'), ('marital-status', ' Married-civ-spouse, Divorced, Never-married, Separated, Widowed, Married-spouse-absent, Married-AF-spouse.'), ('occupation', ' Tech-support, Craft-repair, Other-service, Sales, Exec-managerial, Prof-specialty, Handlers-cleaners, Machine-op-inspct, Adm-clerical, Farming-fishing, Transport-moving, Priv-house-serv, Protective-serv, Armed-Forces.'), ('relationship', ' Wife, Own-child, Husband, Not-in-family, Other-relative, Unmarried.'), ('race', ' White, Asian-Pac-Islander, Amer-Indian-Eskimo, Other, Black.'), ('sex', ' Female, Male.'), ('capital-gain', ' continuous.'), ('capital-loss', ' continuous.'), ('hours-per-week', ' continuous.'), ('native-country', ' United-States, Cambodia, England, Puerto-Rico, Canada, Germany, Outlying-US(Guam-USVI-etc), India, Japan, Greece, South, China, Cuba, Iran, Honduras, Philippines, Italy, Poland, Jamaica, Vietnam, Mexico, Portugal, Ireland, France, Dominican-Republic, Laos, Ecuador, Taiwan, Haiti, Columbia, Hungary, Guatemala, Nicaragua, Scotland, Thailand, Yugoslavia, El-Salvador, Trinadad&Tobago, Peru, Hong, Holand-Netherlands.')]\n"
          ]
        }
      ]
    },
    {
      "cell_type": "code",
      "metadata": {
        "colab": {
          "base_uri": "https://localhost:8080/"
        },
        "id": "icB-lEiQQL48",
        "outputId": "6d31ec10-3613-4658-8ab3-ce4dc2154861"
      },
      "source": [
        "header_dict = dict(tuple_list)\n",
        "print(header_dict)"
      ],
      "execution_count": 45,
      "outputs": [
        {
          "output_type": "stream",
          "name": "stdout",
          "text": [
            "{'age': ' continuous.', 'workclass': ' Private, Self-emp-not-inc, Self-emp-inc, Federal-gov, Local-gov, State-gov, Without-pay, Never-worked.', 'fnlwgt': ' continuous.', 'education': ' Bachelors, Some-college, 11th, HS-grad, Prof-school, Assoc-acdm, Assoc-voc, 9th, 7th-8th, 12th, Masters, 1st-4th, 10th, Doctorate, 5th-6th, Preschool.', 'education-num': ' continuous.', 'marital-status': ' Married-civ-spouse, Divorced, Never-married, Separated, Widowed, Married-spouse-absent, Married-AF-spouse.', 'occupation': ' Tech-support, Craft-repair, Other-service, Sales, Exec-managerial, Prof-specialty, Handlers-cleaners, Machine-op-inspct, Adm-clerical, Farming-fishing, Transport-moving, Priv-house-serv, Protective-serv, Armed-Forces.', 'relationship': ' Wife, Own-child, Husband, Not-in-family, Other-relative, Unmarried.', 'race': ' White, Asian-Pac-Islander, Amer-Indian-Eskimo, Other, Black.', 'sex': ' Female, Male.', 'capital-gain': ' continuous.', 'capital-loss': ' continuous.', 'hours-per-week': ' continuous.', 'native-country': ' United-States, Cambodia, England, Puerto-Rico, Canada, Germany, Outlying-US(Guam-USVI-etc), India, Japan, Greece, South, China, Cuba, Iran, Honduras, Philippines, Italy, Poland, Jamaica, Vietnam, Mexico, Portugal, Ireland, France, Dominican-Republic, Laos, Ecuador, Taiwan, Haiti, Columbia, Hungary, Guatemala, Nicaragua, Scotland, Thailand, Yugoslavia, El-Salvador, Trinadad&Tobago, Peru, Hong, Holand-Netherlands.'}\n"
          ]
        }
      ]
    }
  ]
}