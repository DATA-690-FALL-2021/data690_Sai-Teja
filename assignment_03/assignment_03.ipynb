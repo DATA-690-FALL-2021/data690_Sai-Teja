{
  "nbformat": 4,
  "nbformat_minor": 0,
  "metadata": {
    "colab": {
      "name": "assignment_03.ipynb",
      "provenance": [],
      "authorship_tag": "ABX9TyNEC26AAq1TZT1eOn+sYfEo",
      "include_colab_link": true
    },
    "kernelspec": {
      "name": "python3",
      "display_name": "Python 3"
    },
    "language_info": {
      "name": "python"
    }
  },
  "cells": [
    {
      "cell_type": "markdown",
      "metadata": {
        "id": "view-in-github",
        "colab_type": "text"
      },
      "source": [
        "<a href=\"https://colab.research.google.com/github/asaitej1/data690_Sai-Teja/blob/main/assignment_03/assignment_03.ipynb\" target=\"_parent\"><img src=\"https://colab.research.google.com/assets/colab-badge.svg\" alt=\"Open In Colab\"/></a>"
      ]
    },
    {
      "cell_type": "markdown",
      "metadata": {
        "id": "QVO6IgU7LgpT"
      },
      "source": [
        "# Program that generates 100 random integers between 0 and 9."
      ]
    },
    {
      "cell_type": "code",
      "metadata": {
        "colab": {
          "base_uri": "https://localhost:8080/"
        },
        "id": "XqUnr4CNLfuO",
        "outputId": "8ac11da8-aff0-4af6-c3cb-cbefca02b97f"
      },
      "source": [
        "import random\n",
        "rand_numbers = []\n",
        "for i in range(0, 100):                             # Length of the list : 100\n",
        "   rand_numbers.append(random.randint(0, 9))        # Random numbers in between 0 to 9\n",
        "print(\"List of 100 Random Integers:\")\n",
        "print(rand_numbers)"
      ],
      "execution_count": 1,
      "outputs": [
        {
          "output_type": "stream",
          "name": "stdout",
          "text": [
            "List of 100 Random Integers:\n",
            "[6, 7, 7, 9, 8, 7, 9, 1, 3, 0, 4, 1, 4, 9, 7, 0, 6, 6, 4, 1, 8, 3, 1, 3, 8, 8, 2, 8, 8, 3, 8, 3, 2, 2, 0, 0, 8, 9, 4, 8, 2, 8, 9, 8, 0, 6, 3, 5, 5, 2, 1, 2, 7, 3, 5, 6, 5, 2, 7, 7, 2, 6, 1, 0, 8, 1, 0, 4, 7, 4, 0, 6, 9, 5, 8, 7, 2, 1, 0, 0, 5, 7, 8, 4, 6, 7, 0, 7, 8, 2, 4, 2, 0, 7, 2, 4, 8, 1, 3, 5]\n"
          ]
        }
      ]
    },
    {
      "cell_type": "markdown",
      "metadata": {
        "id": "YKKkdLC2vJfS"
      },
      "source": [
        "# 1.Program to print them in a 10 by 10 matrix.\n"
      ]
    },
    {
      "cell_type": "code",
      "metadata": {
        "colab": {
          "base_uri": "https://localhost:8080/"
        },
        "id": "-hRr_IlMvmh4",
        "outputId": "942d40bf-84a1-4857-d53a-23d75c4f348d"
      },
      "source": [
        "import random as rand\n",
        "\n",
        "for i in range(0,10):\n",
        "    for j in range(0,10):\n",
        "        print(rand.randint(0, 9),end=\"  \")\n",
        "    print(\"  \")"
      ],
      "execution_count": 20,
      "outputs": [
        {
          "output_type": "stream",
          "name": "stdout",
          "text": [
            "8  2  5  0  5  9  0  5  0  4    \n",
            "9  3  8  6  8  0  2  2  2  6    \n",
            "7  4  7  2  0  5  3  6  5  0    \n",
            "0  5  0  9  4  3  8  4  2  4    \n",
            "6  0  0  7  4  3  9  2  2  3    \n",
            "6  0  5  9  5  0  2  0  3  9    \n",
            "2  8  8  0  0  2  2  8  9  2    \n",
            "9  8  6  8  3  3  2  3  9  1    \n",
            "0  9  8  6  1  1  6  0  9  0    \n",
            "0  7  7  6  3  9  7  9  5  5    \n"
          ]
        }
      ]
    },
    {
      "cell_type": "markdown",
      "metadata": {
        "id": "H3twDKF1wVwJ"
      },
      "source": [
        "#2.If the random number is an odd number, print \"@\" instead."
      ]
    },
    {
      "cell_type": "code",
      "metadata": {
        "colab": {
          "base_uri": "https://localhost:8080/"
        },
        "id": "T8wZQbVEwnxa",
        "outputId": "ed5287d2-2cd9-4822-d497-74d7af48f241"
      },
      "source": [
        "for i in range(0,10):\n",
        "    for j in range(0,10):\n",
        "        a = rand.randint(0,9)\n",
        "        if(a%2 == 0):\n",
        "            print(a,end=\"  \")   # prints even numbers.\n",
        "        else:\n",
        "            print(\"@\",end=\"  \") # prints \"@\" if it is an odd number. \n",
        "    print(\"  \")"
      ],
      "execution_count": 18,
      "outputs": [
        {
          "output_type": "stream",
          "name": "stdout",
          "text": [
            "0  @  @  4  6  6  4  4  8  @    \n",
            "6  @  @  0  @  8  6  @  @  @    \n",
            "4  6  @  @  8  @  6  @  @  2    \n",
            "8  0  0  @  6  2  @  @  4  @    \n",
            "@  2  @  2  2  @  @  8  2  0    \n",
            "2  8  2  @  @  @  8  0  @  @    \n",
            "@  @  0  @  @  @  0  @  @  6    \n",
            "@  8  @  @  4  @  0  2  @  4    \n",
            "@  @  4  0  @  0  @  @  @  @    \n",
            "6  @  4  @  @  @  @  @  0  @    \n"
          ]
        }
      ]
    },
    {
      "cell_type": "markdown",
      "metadata": {
        "id": "rBNgFQL5ymy4"
      },
      "source": [
        "#3.Calculate and Print the total of each row(use \"*\" to separate the total from the numbers)."
      ]
    },
    {
      "cell_type": "code",
      "metadata": {
        "colab": {
          "base_uri": "https://localhost:8080/"
        },
        "id": "z5eLTC2wzBDy",
        "outputId": "91795e26-1522-43c9-b1ba-847929d1e621"
      },
      "source": [
        "for i in range(0,10):\n",
        "    output = 0\n",
        "    for j in range(0,10):\n",
        "        b = rand.randint(0, 9)\n",
        "        output += b\n",
        "        print(b, end=\"  \")\n",
        "    print(\"*\", output) "
      ],
      "execution_count": 23,
      "outputs": [
        {
          "output_type": "stream",
          "name": "stdout",
          "text": [
            "8  2  0  8  1  4  4  8  1  5  * 41\n",
            "2  2  1  3  2  1  2  0  1  4  * 18\n",
            "3  6  1  4  2  7  0  0  4  7  * 34\n",
            "8  5  9  6  7  0  0  8  9  1  * 53\n",
            "1  8  0  8  0  6  3  7  0  1  * 34\n",
            "1  3  1  8  9  5  1  4  6  6  * 44\n",
            "1  7  0  8  4  2  5  2  0  6  * 35\n",
            "4  4  9  2  7  6  1  4  6  0  * 43\n",
            "1  1  2  2  7  5  9  6  5  6  * 44\n",
            "1  4  8  7  0  0  1  7  1  9  * 38\n"
          ]
        }
      ]
    },
    {
      "cell_type": "markdown",
      "metadata": {
        "id": "9E3Fy5h14KNv"
      },
      "source": [
        "#4.Surround the matrix with asterisks."
      ]
    },
    {
      "cell_type": "code",
      "metadata": {
        "colab": {
          "base_uri": "https://localhost:8080/"
        },
        "id": "nIRnYhmL7cRu",
        "outputId": "c766084d-1ea6-4380-f352-0a047d9d3690"
      },
      "source": [
        "print(\"*  *  *  *  *  *  *  *  *  *  *  * \")\n",
        "for i in range(0,12):\n",
        "    print(\"*\",end=\"  \")\n",
        "    for j in range(0,10):\n",
        "        if(i>1 or i<=11):\n",
        "            print(rand.randint(0, 9),end=\"  \")\n",
        "        else:    \n",
        "            print(\"*\", end=\"  \")\n",
        "    print(\"*\")\n",
        "print(\"*  *  *  *  *  *  *  *  *  *  *  * \")    "
      ],
      "execution_count": 43,
      "outputs": [
        {
          "output_type": "stream",
          "name": "stdout",
          "text": [
            "*  *  *  *  *  *  *  *  *  *  *  * \n",
            "*  6  3  6  1  6  3  5  0  8  4  *\n",
            "*  4  6  0  6  0  2  3  6  0  7  *\n",
            "*  3  9  0  1  2  4  3  4  1  9  *\n",
            "*  9  2  9  4  6  0  1  1  0  9  *\n",
            "*  7  4  8  6  2  8  7  1  5  3  *\n",
            "*  6  1  0  5  3  5  7  5  8  4  *\n",
            "*  3  1  0  7  1  1  5  6  0  6  *\n",
            "*  4  3  8  5  6  4  6  0  8  0  *\n",
            "*  3  1  4  6  8  9  6  4  3  5  *\n",
            "*  8  0  6  6  8  8  0  5  2  9  *\n",
            "*  8  8  7  2  7  2  5  8  0  1  *\n",
            "*  9  3  0  0  9  5  3  7  8  7  *\n",
            "*  *  *  *  *  *  *  *  *  *  *  * \n"
          ]
        }
      ]
    }
  ]
}