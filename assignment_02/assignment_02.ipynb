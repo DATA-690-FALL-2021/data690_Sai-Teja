{
  "nbformat": 4,
  "nbformat_minor": 0,
  "metadata": {
    "colab": {
      "name": "assignment_02.ipynb",
      "provenance": [],
      "authorship_tag": "ABX9TyNuAUvKZchVXWj0ptFVIPr0",
      "include_colab_link": true
    },
    "kernelspec": {
      "name": "python3",
      "display_name": "Python 3"
    },
    "language_info": {
      "name": "python"
    }
  },
  "cells": [
    {
      "cell_type": "markdown",
      "metadata": {
        "id": "view-in-github",
        "colab_type": "text"
      },
      "source": [
        "<a href=\"https://colab.research.google.com/github/asaitej1/data690_Sai-Teja/blob/main/assignment_02/assignment_02.ipynb\" target=\"_parent\"><img src=\"https://colab.research.google.com/assets/colab-badge.svg\" alt=\"Open In Colab\"/></a>"
      ]
    },
    {
      "cell_type": "markdown",
      "metadata": {
        "id": "U4imAemQ7Y6v"
      },
      "source": [
        "# 1.Code to enter 10 integers"
      ]
    },
    {
      "cell_type": "code",
      "metadata": {
        "colab": {
          "base_uri": "https://localhost:8080/"
        },
        "id": "MPY4bTg_7YGp",
        "outputId": "7faa7851-cc39-4f27-b47f-12b84380195e"
      },
      "source": [
        "the_list = []  #empty list to store entered values\n",
        "\n",
        "for i in range(0,10):\n",
        "    while True:\n",
        "        x = input(\"Please enter an integer:\")\n",
        "        try:\n",
        "            y = int(x)\n",
        "            the_list.append(y)\n",
        "            print(\"got integer:\", y)\n",
        "            break\n",
        "        except:\n",
        "            print(\"Given input is not an integer. Please try again.\")\n",
        "\n",
        "\n",
        "print(\"You have entered:\", the_list)"
      ],
      "execution_count": 1,
      "outputs": [
        {
          "output_type": "stream",
          "name": "stdout",
          "text": [
            "Please enter an integer:3\n",
            "got integer: 3\n",
            "Please enter an integer:5\n",
            "got integer: 5\n",
            "Please enter an integer:7\n",
            "got integer: 7\n",
            "Please enter an integer:2\n",
            "got integer: 2\n",
            "Please enter an integer:12\n",
            "got integer: 12\n",
            "Please enter an integer:Teja\n",
            "Given input is not an integer. Please try again.\n",
            "Please enter an integer:14\n",
            "got integer: 14\n",
            "Please enter an integer:8\n",
            "got integer: 8\n",
            "Please enter an integer:6\n",
            "got integer: 6\n",
            "Please enter an integer:4\n",
            "got integer: 4\n",
            "Please enter an integer:1\n",
            "got integer: 1\n",
            "You have entered: [3, 5, 7, 2, 12, 14, 8, 6, 4, 1]\n"
          ]
        }
      ]
    },
    {
      "cell_type": "markdown",
      "metadata": {
        "id": "jzU0YEb47vK9"
      },
      "source": [
        "# 2.Code to find minimum value"
      ]
    },
    {
      "cell_type": "code",
      "metadata": {
        "colab": {
          "base_uri": "https://localhost:8080/"
        },
        "id": "f8W-PCms7yXf",
        "outputId": "a228ba50-63f3-4311-d455-cf684b630db4"
      },
      "source": [
        "min = the_list[0]\n",
        "for i in range(len(the_list)):\n",
        "    if the_list[i] < min:\n",
        "        min = the_list[i] \n",
        "print(\"Minimum value:\",min)"
      ],
      "execution_count": 2,
      "outputs": [
        {
          "output_type": "stream",
          "name": "stdout",
          "text": [
            "Minimum value: 1\n"
          ]
        }
      ]
    },
    {
      "cell_type": "markdown",
      "metadata": {
        "id": "ipEd93js73RT"
      },
      "source": [
        "#3.Code to find maximum value"
      ]
    },
    {
      "cell_type": "code",
      "metadata": {
        "colab": {
          "base_uri": "https://localhost:8080/"
        },
        "id": "VjRBS73975-Q",
        "outputId": "18793c95-0b1e-46a7-ff9c-ffd65aedb603"
      },
      "source": [
        "max = the_list[0]\n",
        "for i in range(len(the_list)):\n",
        "    if the_list[i] > max:\n",
        "      max = the_list[i]\n",
        "print(\"Maximum value:\", max)"
      ],
      "execution_count": 3,
      "outputs": [
        {
          "output_type": "stream",
          "name": "stdout",
          "text": [
            "Maximum value: 14\n"
          ]
        }
      ]
    },
    {
      "cell_type": "markdown",
      "metadata": {
        "id": "o3JkqmL97_B3"
      },
      "source": [
        "#4.Code to find range"
      ]
    },
    {
      "cell_type": "code",
      "metadata": {
        "colab": {
          "base_uri": "https://localhost:8080/"
        },
        "id": "kuY0aOqe8Ck0",
        "outputId": "7c5828e1-1446-41b6-ce03-262654b6fdd1"
      },
      "source": [
        "Range = max - min  #Range:Difference between maximum value and minimum value \n",
        "print(\"Range:\", Range)"
      ],
      "execution_count": 4,
      "outputs": [
        {
          "output_type": "stream",
          "name": "stdout",
          "text": [
            "Range: 13\n"
          ]
        }
      ]
    },
    {
      "cell_type": "markdown",
      "metadata": {
        "id": "qjALvi5h8KgH"
      },
      "source": [
        "#5.Code to find mean value"
      ]
    },
    {
      "cell_type": "code",
      "metadata": {
        "colab": {
          "base_uri": "https://localhost:8080/"
        },
        "id": "ijRAh5Sn8PHK",
        "outputId": "c15cbf59-4b87-4584-aa79-09bbd12c3a6d"
      },
      "source": [
        "total = 0\n",
        "for i in the_list:\n",
        "    total += i    # total = total + i\n",
        "print(\"total:\", total)\n",
        "mean = total / len(the_list)\n",
        "print(\"mean:\", mean)"
      ],
      "execution_count": 5,
      "outputs": [
        {
          "output_type": "stream",
          "name": "stdout",
          "text": [
            "total: 62\n",
            "mean: 6.2\n"
          ]
        }
      ]
    },
    {
      "cell_type": "markdown",
      "metadata": {
        "id": "qHvAodUc8amv"
      },
      "source": [
        "#6.Code to find variance"
      ]
    },
    {
      "cell_type": "code",
      "metadata": {
        "colab": {
          "base_uri": "https://localhost:8080/"
        },
        "id": "pOMXceZU8bM6",
        "outputId": "39b0888b-fd91-462f-c714-8fa07c9b74e3"
      },
      "source": [
        "for i in range(len(the_list)):  \n",
        "  the_list[i] = the_list[i] - mean   #difference between each value in the list and the mean value \n",
        "for i in the_list:  \n",
        "  a = i**2  #square of each difference\n",
        "sum = 0  \n",
        "for i in the_list:  \n",
        "  sum+=i*i;  #sum of squares\n",
        "variance = sum/len(the_list)  #average of squares\n",
        "print(\"variance:\", variance)"
      ],
      "execution_count": 6,
      "outputs": [
        {
          "output_type": "stream",
          "name": "stdout",
          "text": [
            "variance: 15.959999999999999\n"
          ]
        }
      ]
    },
    {
      "cell_type": "markdown",
      "metadata": {
        "id": "tkx7nvWg8w8g"
      },
      "source": [
        "#7.Code for standard deviation"
      ]
    },
    {
      "cell_type": "code",
      "metadata": {
        "colab": {
          "base_uri": "https://localhost:8080/"
        },
        "id": "ySc2xSYv82ZX",
        "outputId": "13a53d91-ad17-405f-9fec-853b8ded74cf"
      },
      "source": [
        "SD = variance ** 0.5  #squareroot of variance\n",
        "print('Standard deviation:', SD)"
      ],
      "execution_count": 10,
      "outputs": [
        {
          "output_type": "stream",
          "name": "stdout",
          "text": [
            "Standard deviation: 3.994996871087636\n"
          ]
        }
      ]
    }
  ]
}