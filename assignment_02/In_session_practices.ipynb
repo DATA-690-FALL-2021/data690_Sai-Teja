{
  "nbformat": 4,
  "nbformat_minor": 0,
  "metadata": {
    "colab": {
      "name": "In-session_practices.ipynb",
      "provenance": [],
      "authorship_tag": "ABX9TyNhfRH0vbj2SGwQMBb9grwv",
      "include_colab_link": true
    },
    "kernelspec": {
      "name": "python3",
      "display_name": "Python 3"
    },
    "language_info": {
      "name": "python"
    }
  },
  "cells": [
    {
      "cell_type": "markdown",
      "metadata": {
        "id": "view-in-github",
        "colab_type": "text"
      },
      "source": [
        "<a href=\"https://colab.research.google.com/github/asaitej1/data690_Sai-Teja/blob/main/assignment_02/In_session_practices.ipynb\" target=\"_parent\"><img src=\"https://colab.research.google.com/assets/colab-badge.svg\" alt=\"Open In Colab\"/></a>"
      ]
    },
    {
      "cell_type": "markdown",
      "metadata": {
        "id": "cVnTt-sv-rUb"
      },
      "source": [
        "#In-session Hands-practices\n",
        "Sai Teja"
      ]
    },
    {
      "cell_type": "markdown",
      "metadata": {
        "id": "XLApFcQY_ZMJ"
      },
      "source": [
        "##1.Simple Types\n",
        "- int\n",
        "- float\n",
        "- str\n",
        "- boolean (True/False, First letter upper case)\n",
        "-NaN (Not a Number, null value)"
      ]
    },
    {
      "cell_type": "code",
      "metadata": {
        "colab": {
          "base_uri": "https://localhost:8080/"
        },
        "id": "tuTiBRQl--cx",
        "outputId": "6a23448c-f876-41f7-84a7-ccf50f71a598"
      },
      "source": [
        "x = 5      #integer\n",
        "y = 0.6    #float\n",
        "s = \"Hello\" #string, a collection of characters\n",
        "print(x, y, s)"
      ],
      "execution_count": null,
      "outputs": [
        {
          "output_type": "stream",
          "name": "stdout",
          "text": [
            "5 0.6 Hello\n"
          ]
        }
      ]
    },
    {
      "cell_type": "code",
      "metadata": {
        "colab": {
          "base_uri": "https://localhost:8080/"
        },
        "id": "3HyFKsfEBLNp",
        "outputId": "23984d6c-c332-483e-c92c-bb04f4d8db84"
      },
      "source": [
        "type(x)"
      ],
      "execution_count": null,
      "outputs": [
        {
          "output_type": "execute_result",
          "data": {
            "text/plain": [
              "int"
            ]
          },
          "metadata": {},
          "execution_count": 2
        }
      ]
    },
    {
      "cell_type": "code",
      "metadata": {
        "colab": {
          "base_uri": "https://localhost:8080/"
        },
        "id": "TARLZNzwBOhz",
        "outputId": "0c1bbd1f-8a57-42e9-98aa-2186ea69f375"
      },
      "source": [
        "type(s)"
      ],
      "execution_count": null,
      "outputs": [
        {
          "output_type": "execute_result",
          "data": {
            "text/plain": [
              "str"
            ]
          },
          "metadata": {},
          "execution_count": 3
        }
      ]
    },
    {
      "cell_type": "markdown",
      "metadata": {
        "id": "tEclIkXEBRMM"
      },
      "source": [
        "##2.Collection Type"
      ]
    },
    {
      "cell_type": "code",
      "metadata": {
        "colab": {
          "base_uri": "https://localhost:8080/"
        },
        "id": "G9DMOfOEBU4G",
        "outputId": "f134a2ec-9b1a-47c4-a5e4-33dfd8c3dfe9"
      },
      "source": [
        "a_list = [1,5,7,10]\n",
        "print(a_list)"
      ],
      "execution_count": null,
      "outputs": [
        {
          "output_type": "stream",
          "name": "stdout",
          "text": [
            "[1, 5, 7, 10]\n"
          ]
        }
      ]
    },
    {
      "cell_type": "code",
      "metadata": {
        "colab": {
          "base_uri": "https://localhost:8080/"
        },
        "id": "-_63iNneBfWL",
        "outputId": "b56d9ed9-78dc-4d67-c09f-fe5b403a13df"
      },
      "source": [
        "type(a_list)"
      ],
      "execution_count": null,
      "outputs": [
        {
          "output_type": "execute_result",
          "data": {
            "text/plain": [
              "list"
            ]
          },
          "metadata": {},
          "execution_count": 5
        }
      ]
    },
    {
      "cell_type": "markdown",
      "metadata": {
        "id": "LDcj6rGGBjRA"
      },
      "source": [
        "##3.Loop"
      ]
    },
    {
      "cell_type": "code",
      "metadata": {
        "colab": {
          "base_uri": "https://localhost:8080/"
        },
        "id": "LdXLcmDsBmDH",
        "outputId": "201cb329-0d2a-43d6-a1f3-126ecea054d4"
      },
      "source": [
        "for i in a_list:\n",
        "  print(i)"
      ],
      "execution_count": null,
      "outputs": [
        {
          "output_type": "stream",
          "name": "stdout",
          "text": [
            "1\n",
            "5\n",
            "7\n",
            "10\n"
          ]
        }
      ]
    },
    {
      "cell_type": "markdown",
      "metadata": {
        "id": "brXiPQvmBt0b"
      },
      "source": [
        "##4.Conditions"
      ]
    },
    {
      "cell_type": "code",
      "metadata": {
        "colab": {
          "base_uri": "https://localhost:8080/"
        },
        "id": "gr-qA-_3Bwnu",
        "outputId": "59cd1deb-dfc6-4825-f70c-166296aceb25"
      },
      "source": [
        "print(10%2) #modula"
      ],
      "execution_count": null,
      "outputs": [
        {
          "output_type": "stream",
          "name": "stdout",
          "text": [
            "0\n"
          ]
        }
      ]
    },
    {
      "cell_type": "code",
      "metadata": {
        "colab": {
          "base_uri": "https://localhost:8080/"
        },
        "id": "ji1C2etXCAoS",
        "outputId": "a56e9e4a-b79f-4eb6-f31b-466aa284f8ef"
      },
      "source": [
        "print(23%2) #modula"
      ],
      "execution_count": null,
      "outputs": [
        {
          "output_type": "stream",
          "name": "stdout",
          "text": [
            "1\n"
          ]
        }
      ]
    },
    {
      "cell_type": "code",
      "metadata": {
        "colab": {
          "base_uri": "https://localhost:8080/"
        },
        "id": "Q6gZlKzcCUvP",
        "outputId": "8471e9b8-d425-445c-859f-6fa25ccc3c81"
      },
      "source": [
        "for i in a_list:\n",
        "  if i % 2 == 1:\n",
        "   print(\"odd number\", i)"
      ],
      "execution_count": null,
      "outputs": [
        {
          "output_type": "stream",
          "name": "stdout",
          "text": [
            "odd number 1\n",
            "odd number 5\n",
            "odd number 7\n"
          ]
        }
      ]
    },
    {
      "cell_type": "markdown",
      "metadata": {
        "id": "7EmWjjCYLB4h"
      },
      "source": [
        "## 5.Python build-in functions\n",
        "- range()\n",
        "- list()\n",
        "- int()\n",
        "- string()"
      ]
    },
    {
      "cell_type": "code",
      "metadata": {
        "colab": {
          "base_uri": "https://localhost:8080/"
        },
        "id": "2KC19O4GLd7x",
        "outputId": "5e341d58-9538-4d13-8390-9a8f310a7d74"
      },
      "source": [
        "for i in range(10, 21, 2): #start = 10, stop =21 (up to 20, not including 21), step = 2 \n",
        "  print(i)"
      ],
      "execution_count": 1,
      "outputs": [
        {
          "output_type": "stream",
          "name": "stdout",
          "text": [
            "10\n",
            "12\n",
            "14\n",
            "16\n",
            "18\n",
            "20\n"
          ]
        }
      ]
    },
    {
      "cell_type": "code",
      "metadata": {
        "colab": {
          "base_uri": "https://localhost:8080/"
        },
        "id": "FnzKgjWEL_0m",
        "outputId": "09372f36-9754-4f7c-fb92-8363c498050d"
      },
      "source": [
        "for j in range(0,5):\n",
        "  print(j)"
      ],
      "execution_count": 2,
      "outputs": [
        {
          "output_type": "stream",
          "name": "stdout",
          "text": [
            "0\n",
            "1\n",
            "2\n",
            "3\n",
            "4\n"
          ]
        }
      ]
    },
    {
      "cell_type": "code",
      "metadata": {
        "colab": {
          "base_uri": "https://localhost:8080/"
        },
        "id": "50UDa0MwMtwW",
        "outputId": "13da0ebe-a380-4d96-9102-ff574b329a3e"
      },
      "source": [
        "print(list(range(0,5)))"
      ],
      "execution_count": 3,
      "outputs": [
        {
          "output_type": "stream",
          "name": "stdout",
          "text": [
            "[0, 1, 2, 3, 4]\n"
          ]
        }
      ]
    },
    {
      "cell_type": "code",
      "metadata": {
        "colab": {
          "base_uri": "https://localhost:8080/"
        },
        "id": "guJVcwqhNK3-",
        "outputId": "55af35a2-c279-435a-a391-21483cf964e7"
      },
      "source": [
        "x = \"50\"\n",
        "type(x)"
      ],
      "execution_count": 4,
      "outputs": [
        {
          "output_type": "execute_result",
          "data": {
            "text/plain": [
              "str"
            ]
          },
          "metadata": {},
          "execution_count": 4
        }
      ]
    },
    {
      "cell_type": "code",
      "metadata": {
        "colab": {
          "base_uri": "https://localhost:8080/"
        },
        "id": "cdggVEetNPyA",
        "outputId": "a330813e-30f4-42f4-e3f6-c127c8245b25"
      },
      "source": [
        "y = int(x)\n",
        "type(y)"
      ],
      "execution_count": 5,
      "outputs": [
        {
          "output_type": "execute_result",
          "data": {
            "text/plain": [
              "int"
            ]
          },
          "metadata": {},
          "execution_count": 5
        }
      ]
    },
    {
      "cell_type": "code",
      "metadata": {
        "colab": {
          "base_uri": "https://localhost:8080/"
        },
        "id": "EzXPjHVqNY3j",
        "outputId": "85368d26-3767-409a-f7cf-67c00cd3e554"
      },
      "source": [
        "print(x,y)"
      ],
      "execution_count": 7,
      "outputs": [
        {
          "output_type": "stream",
          "name": "stdout",
          "text": [
            "50 50\n"
          ]
        }
      ]
    },
    {
      "cell_type": "markdown",
      "metadata": {
        "id": "Xb_AZWraNsz5"
      },
      "source": [
        "## 6.Accepting user inputs"
      ]
    },
    {
      "cell_type": "code",
      "metadata": {
        "colab": {
          "base_uri": "https://localhost:8080/"
        },
        "id": "aKhKsnVjNySy",
        "outputId": "96aeba37-a12a-47ff-fadd-75fe6a8e4ae1"
      },
      "source": [
        "x = input(\"enter an integer:\")"
      ],
      "execution_count": 9,
      "outputs": [
        {
          "name": "stdout",
          "output_type": "stream",
          "text": [
            "enter an integer:10\n"
          ]
        }
      ]
    },
    {
      "cell_type": "code",
      "metadata": {
        "colab": {
          "base_uri": "https://localhost:8080/"
        },
        "id": "7s9W10fSOBi6",
        "outputId": "4fd33d96-cf49-442c-eb4c-9cc1c6a72c9b"
      },
      "source": [
        "print(x)"
      ],
      "execution_count": 10,
      "outputs": [
        {
          "output_type": "stream",
          "name": "stdout",
          "text": [
            "10\n"
          ]
        }
      ]
    },
    {
      "cell_type": "code",
      "metadata": {
        "colab": {
          "base_uri": "https://localhost:8080/"
        },
        "id": "axyQRlabOG2g",
        "outputId": "f9e9b9c2-d0f3-4fed-c54a-888c0ee2a814"
      },
      "source": [
        "type(x)"
      ],
      "execution_count": 11,
      "outputs": [
        {
          "output_type": "execute_result",
          "data": {
            "text/plain": [
              "str"
            ]
          },
          "metadata": {},
          "execution_count": 11
        }
      ]
    },
    {
      "cell_type": "code",
      "metadata": {
        "colab": {
          "base_uri": "https://localhost:8080/"
        },
        "id": "inVSkjQVOKw2",
        "outputId": "081f7fb6-7458-4c27-c3c4-ac4409d11bb6"
      },
      "source": [
        "x = input(\"enter an integer:\")"
      ],
      "execution_count": 12,
      "outputs": [
        {
          "name": "stdout",
          "output_type": "stream",
          "text": [
            "enter an integer:Teja\n"
          ]
        }
      ]
    },
    {
      "cell_type": "code",
      "metadata": {
        "colab": {
          "base_uri": "https://localhost:8080/"
        },
        "id": "vejd0VaKOU9O",
        "outputId": "76e49127-3b37-4c25-eea3-053e80b8ea10"
      },
      "source": [
        "print(x)"
      ],
      "execution_count": 13,
      "outputs": [
        {
          "output_type": "stream",
          "name": "stdout",
          "text": [
            "Teja\n"
          ]
        }
      ]
    },
    {
      "cell_type": "code",
      "metadata": {
        "colab": {
          "base_uri": "https://localhost:8080/"
        },
        "id": "2D5miKKGOXMg",
        "outputId": "426ddad0-7eac-4e2a-d974-4c0fa74bc8c4"
      },
      "source": [
        "type(x)"
      ],
      "execution_count": 14,
      "outputs": [
        {
          "output_type": "execute_result",
          "data": {
            "text/plain": [
              "str"
            ]
          },
          "metadata": {},
          "execution_count": 14
        }
      ]
    },
    {
      "cell_type": "markdown",
      "metadata": {
        "id": "Rp-Oqa8wOcQO"
      },
      "source": [
        "## 7.Exception handling"
      ]
    },
    {
      "cell_type": "code",
      "metadata": {
        "colab": {
          "base_uri": "https://localhost:8080/",
          "height": 181
        },
        "id": "HXyYq1fkOhAh",
        "outputId": "f2dfd23b-7551-4bcf-e07b-cb0cb86655c5"
      },
      "source": [
        "y = int(x)\n",
        "print(y)"
      ],
      "execution_count": 15,
      "outputs": [
        {
          "output_type": "error",
          "ename": "ValueError",
          "evalue": "ignored",
          "traceback": [
            "\u001b[0;31m---------------------------------------------------------------------------\u001b[0m",
            "\u001b[0;31mValueError\u001b[0m                                Traceback (most recent call last)",
            "\u001b[0;32m<ipython-input-15-049714fa7447>\u001b[0m in \u001b[0;36m<module>\u001b[0;34m()\u001b[0m\n\u001b[0;32m----> 1\u001b[0;31m \u001b[0my\u001b[0m \u001b[0;34m=\u001b[0m \u001b[0mint\u001b[0m\u001b[0;34m(\u001b[0m\u001b[0mx\u001b[0m\u001b[0;34m)\u001b[0m\u001b[0;34m\u001b[0m\u001b[0;34m\u001b[0m\u001b[0m\n\u001b[0m\u001b[1;32m      2\u001b[0m \u001b[0mprint\u001b[0m\u001b[0;34m(\u001b[0m\u001b[0my\u001b[0m\u001b[0;34m)\u001b[0m\u001b[0;34m\u001b[0m\u001b[0;34m\u001b[0m\u001b[0m\n",
            "\u001b[0;31mValueError\u001b[0m: invalid literal for int() with base 10: 'Teja'"
          ]
        }
      ]
    },
    {
      "cell_type": "code",
      "metadata": {
        "colab": {
          "base_uri": "https://localhost:8080/"
        },
        "id": "pecr6TQFO7h6",
        "outputId": "11722cdf-3c87-4fd5-df73-2e8aa94a8a12"
      },
      "source": [
        "y = int(\"50\")\n",
        "print(y)"
      ],
      "execution_count": 16,
      "outputs": [
        {
          "output_type": "stream",
          "name": "stdout",
          "text": [
            "50\n"
          ]
        }
      ]
    },
    {
      "cell_type": "code",
      "metadata": {
        "colab": {
          "base_uri": "https://localhost:8080/"
        },
        "id": "kl5j9xGUPRjc",
        "outputId": "4327d046-c60e-46fa-bfe8-d88402e12c6b"
      },
      "source": [
        "x = input(\"enter an integer:\")\n",
        "try:\n",
        "  y = int(x)\n",
        "  print(\"got integer:\", y)\n",
        "except:\n",
        "  print(\"unable to convert user input to an integer\")\n"
      ],
      "execution_count": 17,
      "outputs": [
        {
          "output_type": "stream",
          "name": "stdout",
          "text": [
            "enter an integer:Teja\n",
            "unable to convert user input to an integer\n"
          ]
        }
      ]
    },
    {
      "cell_type": "markdown",
      "metadata": {
        "id": "bPZds_nVP1ed"
      },
      "source": [
        "## 8.Infinite loop"
      ]
    },
    {
      "cell_type": "code",
      "metadata": {
        "colab": {
          "base_uri": "https://localhost:8080/"
        },
        "id": "JChoCDhZP6e3",
        "outputId": "490b479d-1a93-48d6-e938-e6cb5532fcc5"
      },
      "source": [
        "while True:\n",
        "  x = input(\"please enter an integer:\")\n",
        "  try:\n",
        "    y = int(x)\n",
        "    print(\"got integer:\", y)\n",
        "    break\n",
        "  except:\n",
        "    print(\"you must enter an integer\")"
      ],
      "execution_count": 24,
      "outputs": [
        {
          "output_type": "stream",
          "name": "stdout",
          "text": [
            "please enter an integer:Sai\n",
            "you must enter an integer\n",
            "please enter an integer:35\n",
            "got integer: 35\n"
          ]
        }
      ]
    },
    {
      "cell_type": "code",
      "metadata": {
        "id": "5FUtJz6SXrl8",
        "outputId": "ac08fbb5-0532-41ae-b387-7321754b9e3f",
        "colab": {
          "base_uri": "https://localhost:8080/"
        }
      },
      "source": [
        "the_list = []\n",
        "\n",
        "for i in range(0,3):\n",
        "    while True:\n",
        "        x = input(\"Please enter an integer:\")\n",
        "        try:\n",
        "            y = int(x)\n",
        "            the_list.append(y)\n",
        "            print(\"got integer:\", y)\n",
        "            break\n",
        "        except:\n",
        "            print(\"You must enter an integer. Please try again.\")\n",
        "\n",
        "\n",
        "print(\"You have entered:\", the_list)"
      ],
      "execution_count": 25,
      "outputs": [
        {
          "output_type": "stream",
          "name": "stdout",
          "text": [
            "Please enter an integer:15\n",
            "got integer: 15\n",
            "Please enter an integer:25\n",
            "got integer: 25\n",
            "Please enter an integer:60\n",
            "got integer: 60\n",
            "You have entered: [15, 25, 60]\n"
          ]
        }
      ]
    },
    {
      "cell_type": "code",
      "metadata": {
        "id": "m4ot2eEiXyx_",
        "outputId": "f1d1bae4-9e37-4efe-fdbf-bde34ba9c220",
        "colab": {
          "base_uri": "https://localhost:8080/"
        }
      },
      "source": [
        "total = 0\n",
        "\n",
        "for i in the_list:\n",
        "    total += i    # total = total + i\n",
        "\n",
        "print(\"total = \", total)"
      ],
      "execution_count": 26,
      "outputs": [
        {
          "output_type": "stream",
          "name": "stdout",
          "text": [
            "total =  100\n"
          ]
        }
      ]
    },
    {
      "cell_type": "code",
      "metadata": {
        "id": "Q54ZxU5_X5VX",
        "outputId": "fdcb8c14-f81c-4b8b-f2e4-794114653aa9",
        "colab": {
          "base_uri": "https://localhost:8080/"
        }
      },
      "source": [
        "mean = total / len(the_list)\n",
        "print(mean)"
      ],
      "execution_count": 27,
      "outputs": [
        {
          "output_type": "stream",
          "name": "stdout",
          "text": [
            "33.333333333333336\n"
          ]
        }
      ]
    }
  ]
}