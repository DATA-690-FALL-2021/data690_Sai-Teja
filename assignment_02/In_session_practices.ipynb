{
  "nbformat": 4,
  "nbformat_minor": 0,
  "metadata": {
    "colab": {
      "name": "In-session_practices.ipynb",
      "provenance": [],
      "authorship_tag": "ABX9TyM+NUCTktKIn+RrJNXY9Bxf",
      "include_colab_link": true
    },
    "kernelspec": {
      "name": "python3",
      "display_name": "Python 3"
    },
    "language_info": {
      "name": "python"
    }
  },
  "cells": [
    {
      "cell_type": "markdown",
      "metadata": {
        "id": "view-in-github",
        "colab_type": "text"
      },
      "source": [
        "<a href=\"https://colab.research.google.com/github/asaitej1/data690_Sai-Teja/blob/main/assignment_02/In_session_practices.ipynb\" target=\"_parent\"><img src=\"https://colab.research.google.com/assets/colab-badge.svg\" alt=\"Open In Colab\"/></a>"
      ]
    },
    {
      "cell_type": "markdown",
      "metadata": {
        "id": "cVnTt-sv-rUb"
      },
      "source": [
        "#In-session Hands-practices\n",
        "Sai Teja"
      ]
    },
    {
      "cell_type": "markdown",
      "metadata": {
        "id": "XLApFcQY_ZMJ"
      },
      "source": [
        "##1.Simple Types"
      ]
    },
    {
      "cell_type": "code",
      "metadata": {
        "colab": {
          "base_uri": "https://localhost:8080/"
        },
        "id": "tuTiBRQl--cx",
        "outputId": "6a23448c-f876-41f7-84a7-ccf50f71a598"
      },
      "source": [
        "x = 5      #integer\n",
        "y = 0.6    #float\n",
        "s = \"Hello\" #string, a collection of characters\n",
        "print(x, y, s)"
      ],
      "execution_count": 1,
      "outputs": [
        {
          "output_type": "stream",
          "name": "stdout",
          "text": [
            "5 0.6 Hello\n"
          ]
        }
      ]
    },
    {
      "cell_type": "code",
      "metadata": {
        "colab": {
          "base_uri": "https://localhost:8080/"
        },
        "id": "3HyFKsfEBLNp",
        "outputId": "23984d6c-c332-483e-c92c-bb04f4d8db84"
      },
      "source": [
        "type(x)"
      ],
      "execution_count": 2,
      "outputs": [
        {
          "output_type": "execute_result",
          "data": {
            "text/plain": [
              "int"
            ]
          },
          "metadata": {},
          "execution_count": 2
        }
      ]
    },
    {
      "cell_type": "code",
      "metadata": {
        "colab": {
          "base_uri": "https://localhost:8080/"
        },
        "id": "TARLZNzwBOhz",
        "outputId": "0c1bbd1f-8a57-42e9-98aa-2186ea69f375"
      },
      "source": [
        "type(s)"
      ],
      "execution_count": 3,
      "outputs": [
        {
          "output_type": "execute_result",
          "data": {
            "text/plain": [
              "str"
            ]
          },
          "metadata": {},
          "execution_count": 3
        }
      ]
    },
    {
      "cell_type": "markdown",
      "metadata": {
        "id": "tEclIkXEBRMM"
      },
      "source": [
        "##2.Collection Type"
      ]
    },
    {
      "cell_type": "code",
      "metadata": {
        "colab": {
          "base_uri": "https://localhost:8080/"
        },
        "id": "G9DMOfOEBU4G",
        "outputId": "f134a2ec-9b1a-47c4-a5e4-33dfd8c3dfe9"
      },
      "source": [
        "a_list = [1,5,7,10]\n",
        "print(a_list)"
      ],
      "execution_count": 4,
      "outputs": [
        {
          "output_type": "stream",
          "name": "stdout",
          "text": [
            "[1, 5, 7, 10]\n"
          ]
        }
      ]
    },
    {
      "cell_type": "code",
      "metadata": {
        "colab": {
          "base_uri": "https://localhost:8080/"
        },
        "id": "-_63iNneBfWL",
        "outputId": "b56d9ed9-78dc-4d67-c09f-fe5b403a13df"
      },
      "source": [
        "type(a_list)"
      ],
      "execution_count": 5,
      "outputs": [
        {
          "output_type": "execute_result",
          "data": {
            "text/plain": [
              "list"
            ]
          },
          "metadata": {},
          "execution_count": 5
        }
      ]
    },
    {
      "cell_type": "markdown",
      "metadata": {
        "id": "LDcj6rGGBjRA"
      },
      "source": [
        "##3.Loop"
      ]
    },
    {
      "cell_type": "code",
      "metadata": {
        "colab": {
          "base_uri": "https://localhost:8080/"
        },
        "id": "LdXLcmDsBmDH",
        "outputId": "201cb329-0d2a-43d6-a1f3-126ecea054d4"
      },
      "source": [
        "for i in a_list:\n",
        "  print(i)"
      ],
      "execution_count": 6,
      "outputs": [
        {
          "output_type": "stream",
          "name": "stdout",
          "text": [
            "1\n",
            "5\n",
            "7\n",
            "10\n"
          ]
        }
      ]
    },
    {
      "cell_type": "markdown",
      "metadata": {
        "id": "brXiPQvmBt0b"
      },
      "source": [
        "##4.Conditions"
      ]
    },
    {
      "cell_type": "code",
      "metadata": {
        "colab": {
          "base_uri": "https://localhost:8080/"
        },
        "id": "gr-qA-_3Bwnu",
        "outputId": "59cd1deb-dfc6-4825-f70c-166296aceb25"
      },
      "source": [
        "print(10%2) #modula"
      ],
      "execution_count": 9,
      "outputs": [
        {
          "output_type": "stream",
          "name": "stdout",
          "text": [
            "0\n"
          ]
        }
      ]
    },
    {
      "cell_type": "code",
      "metadata": {
        "colab": {
          "base_uri": "https://localhost:8080/"
        },
        "id": "ji1C2etXCAoS",
        "outputId": "a56e9e4a-b79f-4eb6-f31b-466aa284f8ef"
      },
      "source": [
        "print(23%2) #modula"
      ],
      "execution_count": 12,
      "outputs": [
        {
          "output_type": "stream",
          "name": "stdout",
          "text": [
            "1\n"
          ]
        }
      ]
    },
    {
      "cell_type": "code",
      "metadata": {
        "colab": {
          "base_uri": "https://localhost:8080/"
        },
        "id": "Q6gZlKzcCUvP",
        "outputId": "8471e9b8-d425-445c-859f-6fa25ccc3c81"
      },
      "source": [
        "for i in a_list:\n",
        "  if i % 2 == 1:\n",
        "   print(\"odd number\", i)"
      ],
      "execution_count": 14,
      "outputs": [
        {
          "output_type": "stream",
          "name": "stdout",
          "text": [
            "odd number 1\n",
            "odd number 5\n",
            "odd number 7\n"
          ]
        }
      ]
    }
  ]
}