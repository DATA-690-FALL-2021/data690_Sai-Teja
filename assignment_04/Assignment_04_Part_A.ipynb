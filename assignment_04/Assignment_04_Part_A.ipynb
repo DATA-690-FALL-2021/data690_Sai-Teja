{
  "nbformat": 4,
  "nbformat_minor": 0,
  "metadata": {
    "colab": {
      "name": "Assignment_04_Part-A.ipynb",
      "provenance": [],
      "collapsed_sections": [],
      "authorship_tag": "ABX9TyM4HswW5PVmgqjFY35EU1Ey",
      "include_colab_link": true
    },
    "kernelspec": {
      "name": "python3",
      "display_name": "Python 3"
    },
    "language_info": {
      "name": "python"
    }
  },
  "cells": [
    {
      "cell_type": "markdown",
      "metadata": {
        "id": "view-in-github",
        "colab_type": "text"
      },
      "source": [
        "<a href=\"https://colab.research.google.com/github/asaitej1/data690_Sai-Teja/blob/main/assignment_04/Assignment_04_Part_A.ipynb\" target=\"_parent\"><img src=\"https://colab.research.google.com/assets/colab-badge.svg\" alt=\"Open In Colab\"/></a>"
      ]
    },
    {
      "cell_type": "markdown",
      "metadata": {
        "id": "4rM1aU_O42V5"
      },
      "source": [
        "# Assignment 04\n",
        "\n",
        "## Part A - Using Python\n",
        "\n",
        "1. Write code to open the text file [census_costs.txt](census_costs.txt) and read all lines into a list named **\"line_list\"**. Print line_list.\n",
        "2. Extract the first two lines and put them in a different list named \"top2_list\". You will need to use them later. Print the top2_list.\n",
        "3. Put the rest of the lines (containing useful data elements) in a new list named \"data_list\". Print data_list.\n",
        "4. Extract the column **\"Census Year\"** from data_list and assign them to a list named **year_list**. Remove the \"*\" from the last element \"2010*\". Print the cleansed year_list.\n",
        "5. Extract the **\"Total Population\"** column from the data_list and assign them to a list named **\"pop_list\"**. Remove the \",\" from the numbers since Python doesn't recognize them. Print the cleansed \"pop_list\".\n",
        "6. Extract the **\"Census Cost\"** column from the data_list and assign them to a list named **\"cost_list\"**. Remove the ',', and '$', and 'Billion'.\n",
        "Make sure to add the \"0\" to the numbers from which you removed 'Billion'. Print the cleansed cost_list.  \n",
        "7. Extract the **\"Average Cost per Person\"** column from the data_list and assign them to a list named **\"avg_list\"**. Remove the \"cents\", and \"$\".\n",
        "Make sure to divide the numbers in cents by 100 so that all numbers are measured in dollar. Print the cleansed avg_list.\n",
        "8. Coalesce the cleansed data and save them to a text file named \"census_cost.csv\". The new file should look similar to the original source file except that it is in \n",
        "comma-delimited format and the numbers have been cleansed. The top two lines from the original file should be retained in the new file.\n",
        "9. Write code to open the newly-created file \"census_cost.csv\", read all lines and display them. How does it look?"
      ]
    },
    {
      "cell_type": "code",
      "metadata": {
        "colab": {
          "base_uri": "https://localhost:8080/"
        },
        "id": "oRHs6nF54qCa",
        "outputId": "b2c3f53f-6770-4a8d-f6e5-4c9f55fde74e"
      },
      "source": [
        "with open('/content/census_costs.txt','r') as f:\n",
        "  line_list = f.readlines()\n",
        "  print(line_list)"
      ],
      "execution_count": 39,
      "outputs": [
        {
          "output_type": "stream",
          "name": "stdout",
          "text": [
            "['Source: https://www.genealogybranches.com/censuscosts.html\\n', 'Census Year\\tTotal Population\\tCensus Cost\\tAverage Cost Per Person\\n', '1790\\t3,929,214\\t$44,377\\t1.13 cents\\n', '1800\\t5,308,483\\t$66,109\\t1.24 cents\\n', '1810\\t7,239,881\\t$178,445\\t2.46 cents\\n', '1820\\t9,633,822\\t$208,526\\t2.16 cents\\n', '1830\\t12,866,020\\t$378,545\\t2.94 cents\\n', '1840\\t17,069,458\\t$833,371\\t4.88 cents\\n', '1850\\t23,191,876\\t$1,423,351\\t6.14 cents\\n', '1860\\t31,443,321\\t$1,969,377\\t6.26 cents\\n', '1870\\t38,558,371\\t$3,421,198\\t8.87 cents\\n', '1880\\t50,155,783\\t$5,790,678\\t11.54 cents\\n', '1890\\t62,979,766\\t$11,547,127\\t18.33 cents\\n', '1900\\t76,303,387\\t$11,854,000\\t15.54 cents\\n', '1910\\t91,972,266\\t$15,968,000\\t17.07 cents\\n', '1920\\t105,710,620\\t$25,117,000\\t23.76 cents\\n', '1930\\t122,775,046\\t$40,156,000\\t32.71 cents\\n', '1940\\t131,669,275\\t$67,527,000\\t51.29 cents\\n', '1950\\t151,325,798\\t$91,462,000\\t60.44 cents\\n', '1960\\t179,323,175\\t$127,934,000\\t71.34 cents\\n', '1970\\t203,302,031\\t$247,653,000\\t$1.22\\n', '1980\\t226,542,199\\t$1,078,488,000\\t$4.76\\n', '1990\\t248,718,301\\t$2,492,830,000\\t$10.02\\n', '2000\\t281,421,906\\t$4.5 Billion\\t$15.99\\n', '2010*\\t308,745,538\\t$13 Billion\\t$42.11']\n"
          ]
        }
      ]
    },
    {
      "cell_type": "code",
      "metadata": {
        "colab": {
          "base_uri": "https://localhost:8080/"
        },
        "id": "YanM0snS6rs9",
        "outputId": "5bd86b32-341b-42ed-9853-c4c966ebcbd4"
      },
      "source": [
        "with open(\"/content/census_costs.txt\",\"r\") as file:\n",
        "  lines=file.readlines()\n",
        "  top2_list=[]\n",
        "  row_count=0\n",
        "  for x in lines:\n",
        "    if row_count<2:\n",
        "      temp=x.split('\\n')\n",
        "      top2_list.append(temp[0])\n",
        "    row_count+=1\n",
        "print(top2_list)"
      ],
      "execution_count": 40,
      "outputs": [
        {
          "output_type": "stream",
          "name": "stdout",
          "text": [
            "['Source: https://www.genealogybranches.com/censuscosts.html', 'Census Year\\tTotal Population\\tCensus Cost\\tAverage Cost Per Person']\n"
          ]
        }
      ]
    },
    {
      "cell_type": "code",
      "metadata": {
        "colab": {
          "base_uri": "https://localhost:8080/"
        },
        "id": "-g25kvok7luT",
        "outputId": "1a5b7921-4af7-4e1c-c68a-8536cf589904"
      },
      "source": [
        "with open(\"/content/census_costs.txt\",\"r\") as file:\n",
        "  lines=file.readlines()\n",
        "  data_list=[]\n",
        "  count=0\n",
        "  for x in lines:\n",
        "    if count>=2:\n",
        "      data_list.append(x.split('\\t'))\n",
        "    count+=1\n",
        "print(data_list)"
      ],
      "execution_count": 41,
      "outputs": [
        {
          "output_type": "stream",
          "name": "stdout",
          "text": [
            "[['1790', '3,929,214', '$44,377', '1.13 cents\\n'], ['1800', '5,308,483', '$66,109', '1.24 cents\\n'], ['1810', '7,239,881', '$178,445', '2.46 cents\\n'], ['1820', '9,633,822', '$208,526', '2.16 cents\\n'], ['1830', '12,866,020', '$378,545', '2.94 cents\\n'], ['1840', '17,069,458', '$833,371', '4.88 cents\\n'], ['1850', '23,191,876', '$1,423,351', '6.14 cents\\n'], ['1860', '31,443,321', '$1,969,377', '6.26 cents\\n'], ['1870', '38,558,371', '$3,421,198', '8.87 cents\\n'], ['1880', '50,155,783', '$5,790,678', '11.54 cents\\n'], ['1890', '62,979,766', '$11,547,127', '18.33 cents\\n'], ['1900', '76,303,387', '$11,854,000', '15.54 cents\\n'], ['1910', '91,972,266', '$15,968,000', '17.07 cents\\n'], ['1920', '105,710,620', '$25,117,000', '23.76 cents\\n'], ['1930', '122,775,046', '$40,156,000', '32.71 cents\\n'], ['1940', '131,669,275', '$67,527,000', '51.29 cents\\n'], ['1950', '151,325,798', '$91,462,000', '60.44 cents\\n'], ['1960', '179,323,175', '$127,934,000', '71.34 cents\\n'], ['1970', '203,302,031', '$247,653,000', '$1.22\\n'], ['1980', '226,542,199', '$1,078,488,000', '$4.76\\n'], ['1990', '248,718,301', '$2,492,830,000', '$10.02\\n'], ['2000', '281,421,906', '$4.5 Billion', '$15.99\\n'], ['2010*', '308,745,538', '$13 Billion', '$42.11']]\n"
          ]
        }
      ]
    },
    {
      "cell_type": "code",
      "metadata": {
        "colab": {
          "base_uri": "https://localhost:8080/"
        },
        "id": "9ZHLRI6s8OAj",
        "outputId": "5c92b638-08a1-4129-d1fb-b73db27e03b0"
      },
      "source": [
        "year_list=[]\n",
        "for values in data_list:\n",
        "  values[0] = values[0].replace('*', '')\n",
        "  year_list.append(values[0])\n",
        "print(year_list)"
      ],
      "execution_count": 42,
      "outputs": [
        {
          "output_type": "stream",
          "name": "stdout",
          "text": [
            "['1790', '1800', '1810', '1820', '1830', '1840', '1850', '1860', '1870', '1880', '1890', '1900', '1910', '1920', '1930', '1940', '1950', '1960', '1970', '1980', '1990', '2000', '2010']\n"
          ]
        }
      ]
    },
    {
      "cell_type": "code",
      "metadata": {
        "colab": {
          "base_uri": "https://localhost:8080/"
        },
        "id": "QoE1SEnF8jYA",
        "outputId": "d45174e5-60c2-4e48-d19d-e2a1925d7f79"
      },
      "source": [
        "pop_list=[]\n",
        "for values in data_list:\n",
        "  values[0] = values[0].replace(\"'\", \"\")\n",
        "  pop_list.append(values[1])\n",
        "print(pop_list) "
      ],
      "execution_count": 43,
      "outputs": [
        {
          "output_type": "stream",
          "name": "stdout",
          "text": [
            "['3,929,214', '5,308,483', '7,239,881', '9,633,822', '12,866,020', '17,069,458', '23,191,876', '31,443,321', '38,558,371', '50,155,783', '62,979,766', '76,303,387', '91,972,266', '105,710,620', '122,775,046', '131,669,275', '151,325,798', '179,323,175', '203,302,031', '226,542,199', '248,718,301', '281,421,906', '308,745,538']\n"
          ]
        }
      ]
    },
    {
      "cell_type": "code",
      "metadata": {
        "colab": {
          "base_uri": "https://localhost:8080/"
        },
        "id": "Ypw4h20V9dX0",
        "outputId": "fe4025f9-c5e6-494d-f108-a8ae718e1877"
      },
      "source": [
        "cost_list=[]\n",
        "for values in data_list:\n",
        "  values[2]=values[2].replace(\",\",\"\")\n",
        "  values[2]=values[2].replace(\"$\",\"\")\n",
        "  if \"Billion\" in values[2]:\n",
        "    values[2]=values[2].replace(\"Billion\",\"\")\n",
        "    values[2]=str(float(values[2])*1000000000)\n",
        "  cost_list.append(values[2])\n",
        "print(cost_list)"
      ],
      "execution_count": 44,
      "outputs": [
        {
          "output_type": "stream",
          "name": "stdout",
          "text": [
            "['44377', '66109', '178445', '208526', '378545', '833371', '1423351', '1969377', '3421198', '5790678', '11547127', '11854000', '15968000', '25117000', '40156000', '67527000', '91462000', '127934000', '247653000', '1078488000', '2492830000', '4500000000.0', '13000000000.0']\n"
          ]
        }
      ]
    },
    {
      "cell_type": "code",
      "metadata": {
        "colab": {
          "base_uri": "https://localhost:8080/"
        },
        "id": "LcZeKTERAvDt",
        "outputId": "127cbc1b-1243-4140-e61b-bfb1079c644d"
      },
      "source": [
        "avg_list=[]\n",
        "for values in data_list:\n",
        "  values[3]=values[3].replace(\"cents\",\"\")\n",
        "  values[3]=values[3].replace(\"$\",\"\")\n",
        "  values[3]=values[3].replace(\"\\n\",\"\")\n",
        "  values[3]=values[3].replace(\" \",\"\")\n",
        "  avg_list.append(str(float(values[3])/100))\n",
        "print(avg_list)"
      ],
      "execution_count": 45,
      "outputs": [
        {
          "output_type": "stream",
          "name": "stdout",
          "text": [
            "['0.0113', '0.0124', '0.0246', '0.0216', '0.0294', '0.048799999999999996', '0.061399999999999996', '0.0626', '0.08869999999999999', '0.11539999999999999', '0.1833', '0.15539999999999998', '0.1707', '0.2376', '0.3271', '0.5129', '0.6043999999999999', '0.7134', '0.012199999999999999', '0.047599999999999996', '0.1002', '0.15990000000000001', '0.4211']\n"
          ]
        }
      ]
    },
    {
      "cell_type": "code",
      "metadata": {
        "colab": {
          "base_uri": "https://localhost:8080/"
        },
        "id": "9j0Oj3UW7T_J",
        "outputId": "89f49d16-7c9d-437c-946d-9ffe45d82486"
      },
      "source": [
        "import csv\n",
        "print(top2_list[1])\n",
        "final_list=zip(year_list,pop_list,cost_list,avg_list)\n",
        "with open(\"census_cost.csv\",\"w\") as writefile:\n",
        "  wr = csv.writer(writefile)\n",
        "  wr.writerow(top2_list[:1])\n",
        "  print(type(top2_list[0]))\n",
        "  heading=list(top2_list[1].split(\"\\t\"))\n",
        "  wr.writerow(heading)\n",
        "  for values in final_list:\n",
        "    wr.writerow(values)"
      ],
      "execution_count": 46,
      "outputs": [
        {
          "output_type": "stream",
          "name": "stdout",
          "text": [
            "Census Year\tTotal Population\tCensus Cost\tAverage Cost Per Person\n",
            "<class 'str'>\n"
          ]
        }
      ]
    },
    {
      "cell_type": "code",
      "metadata": {
        "colab": {
          "base_uri": "https://localhost:8080/"
        },
        "id": "Iy2yXiql7qBh",
        "outputId": "e3990372-b7d1-4b45-8dab-e0cbb86cadb2"
      },
      "source": [
        "with open(\"census_cost.csv\",\"r\") as readfile:\n",
        "  readfile1 = csv.reader(readfile)\n",
        "  for values in readfile1:\n",
        "    print(values)"
      ],
      "execution_count": 47,
      "outputs": [
        {
          "output_type": "stream",
          "name": "stdout",
          "text": [
            "['Source: https://www.genealogybranches.com/censuscosts.html']\n",
            "['Census Year', 'Total Population', 'Census Cost', 'Average Cost Per Person']\n",
            "['1790', '3,929,214', '44377', '0.0113']\n",
            "['1800', '5,308,483', '66109', '0.0124']\n",
            "['1810', '7,239,881', '178445', '0.0246']\n",
            "['1820', '9,633,822', '208526', '0.0216']\n",
            "['1830', '12,866,020', '378545', '0.0294']\n",
            "['1840', '17,069,458', '833371', '0.048799999999999996']\n",
            "['1850', '23,191,876', '1423351', '0.061399999999999996']\n",
            "['1860', '31,443,321', '1969377', '0.0626']\n",
            "['1870', '38,558,371', '3421198', '0.08869999999999999']\n",
            "['1880', '50,155,783', '5790678', '0.11539999999999999']\n",
            "['1890', '62,979,766', '11547127', '0.1833']\n",
            "['1900', '76,303,387', '11854000', '0.15539999999999998']\n",
            "['1910', '91,972,266', '15968000', '0.1707']\n",
            "['1920', '105,710,620', '25117000', '0.2376']\n",
            "['1930', '122,775,046', '40156000', '0.3271']\n",
            "['1940', '131,669,275', '67527000', '0.5129']\n",
            "['1950', '151,325,798', '91462000', '0.6043999999999999']\n",
            "['1960', '179,323,175', '127934000', '0.7134']\n",
            "['1970', '203,302,031', '247653000', '0.012199999999999999']\n",
            "['1980', '226,542,199', '1078488000', '0.047599999999999996']\n",
            "['1990', '248,718,301', '2492830000', '0.1002']\n",
            "['2000', '281,421,906', '4500000000.0', '0.15990000000000001']\n",
            "['2010', '308,745,538', '13000000000.0', '0.4211']\n"
          ]
        }
      ]
    }
  ]
}